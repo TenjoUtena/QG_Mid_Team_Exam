{
 "cells": [
  {
   "cell_type": "code",
   "execution_count": 1,
   "metadata": {},
   "outputs": [],
   "source": [
    "import pandas as pd\n",
    "import numpy as np\n",
    "import matplotlib.pyplot as plt\n",
    "import seaborn as sns\n",
    "import missingno as msno\n",
    "import sklearn as skl\n",
    "\n",
    "%matplotlib inline\n",
    "\n",
    "from IPython.core.interactiveshell import InteractiveShell\n",
    "InteractiveShell.ast_node_interactivity = \"all\" "
   ]
  },
  {
   "cell_type": "markdown",
   "metadata": {},
   "source": [
    "## 查看数据"
   ]
  },
  {
   "cell_type": "code",
   "execution_count": 2,
   "metadata": {},
   "outputs": [
    {
     "data": {
      "text/html": [
       "<div>\n",
       "<style scoped>\n",
       "    .dataframe tbody tr th:only-of-type {\n",
       "        vertical-align: middle;\n",
       "    }\n",
       "\n",
       "    .dataframe tbody tr th {\n",
       "        vertical-align: top;\n",
       "    }\n",
       "\n",
       "    .dataframe thead th {\n",
       "        text-align: right;\n",
       "    }\n",
       "</style>\n",
       "<table border=\"1\" class=\"dataframe\">\n",
       "  <thead>\n",
       "    <tr style=\"text-align: right;\">\n",
       "      <th></th>\n",
       "      <th>id_num</th>\n",
       "      <th>program_type</th>\n",
       "      <th>program_id</th>\n",
       "      <th>program_duration</th>\n",
       "      <th>test_id</th>\n",
       "      <th>test_type</th>\n",
       "      <th>difficulty_level</th>\n",
       "      <th>trainee_id</th>\n",
       "      <th>gender</th>\n",
       "      <th>education</th>\n",
       "      <th>city_tier</th>\n",
       "      <th>age</th>\n",
       "      <th>total_programs_enrolled</th>\n",
       "      <th>is_handicapped</th>\n",
       "      <th>trainee_engagement_rating</th>\n",
       "      <th>is_pass</th>\n",
       "    </tr>\n",
       "  </thead>\n",
       "  <tbody>\n",
       "    <tr>\n",
       "      <th>0</th>\n",
       "      <td>9389_150</td>\n",
       "      <td>Y</td>\n",
       "      <td>Y_1</td>\n",
       "      <td>136.0</td>\n",
       "      <td>150.0</td>\n",
       "      <td>offline</td>\n",
       "      <td>intermediate</td>\n",
       "      <td>9389.0</td>\n",
       "      <td>M</td>\n",
       "      <td>Matriculation</td>\n",
       "      <td>3.0</td>\n",
       "      <td>24.0</td>\n",
       "      <td>5.0</td>\n",
       "      <td>N</td>\n",
       "      <td>1.0</td>\n",
       "      <td>0</td>\n",
       "    </tr>\n",
       "    <tr>\n",
       "      <th>1</th>\n",
       "      <td>16523_44</td>\n",
       "      <td>T</td>\n",
       "      <td>T_1</td>\n",
       "      <td>131.0</td>\n",
       "      <td>44.0</td>\n",
       "      <td>offline</td>\n",
       "      <td>easy</td>\n",
       "      <td>16523.0</td>\n",
       "      <td>F</td>\n",
       "      <td>High School Diploma</td>\n",
       "      <td>4.0</td>\n",
       "      <td>26.0</td>\n",
       "      <td>2.0</td>\n",
       "      <td>N</td>\n",
       "      <td>3.0</td>\n",
       "      <td>1</td>\n",
       "    </tr>\n",
       "    <tr>\n",
       "      <th>2</th>\n",
       "      <td>13987_178</td>\n",
       "      <td>Z</td>\n",
       "      <td>Z_2</td>\n",
       "      <td>120.0</td>\n",
       "      <td>178.0</td>\n",
       "      <td>online</td>\n",
       "      <td>easy</td>\n",
       "      <td>13987.0</td>\n",
       "      <td>M</td>\n",
       "      <td>Matriculation</td>\n",
       "      <td>1.0</td>\n",
       "      <td>40.0</td>\n",
       "      <td>1.0</td>\n",
       "      <td>N</td>\n",
       "      <td>2.0</td>\n",
       "      <td>1</td>\n",
       "    </tr>\n",
       "    <tr>\n",
       "      <th>3</th>\n",
       "      <td>13158_32</td>\n",
       "      <td>T</td>\n",
       "      <td>T_2</td>\n",
       "      <td>117.0</td>\n",
       "      <td>32.0</td>\n",
       "      <td>offline</td>\n",
       "      <td>easy</td>\n",
       "      <td>13158.0</td>\n",
       "      <td>F</td>\n",
       "      <td>Matriculation</td>\n",
       "      <td>3.0</td>\n",
       "      <td>NaN</td>\n",
       "      <td>4.0</td>\n",
       "      <td>N</td>\n",
       "      <td>1.0</td>\n",
       "      <td>1</td>\n",
       "    </tr>\n",
       "    <tr>\n",
       "      <th>4</th>\n",
       "      <td>10591_84</td>\n",
       "      <td>V</td>\n",
       "      <td>V_3</td>\n",
       "      <td>131.0</td>\n",
       "      <td>84.0</td>\n",
       "      <td>offline</td>\n",
       "      <td>intermediate</td>\n",
       "      <td>10591.0</td>\n",
       "      <td>F</td>\n",
       "      <td>High School Diploma</td>\n",
       "      <td>1.0</td>\n",
       "      <td>42.0</td>\n",
       "      <td>2.0</td>\n",
       "      <td>N</td>\n",
       "      <td>4.0</td>\n",
       "      <td>1</td>\n",
       "    </tr>\n",
       "    <tr>\n",
       "      <th>5</th>\n",
       "      <td>12531_23</td>\n",
       "      <td>T</td>\n",
       "      <td>T_3</td>\n",
       "      <td>134.0</td>\n",
       "      <td>23.0</td>\n",
       "      <td>offline</td>\n",
       "      <td>intermediate</td>\n",
       "      <td>12531.0</td>\n",
       "      <td>F</td>\n",
       "      <td>High School Diploma</td>\n",
       "      <td>1.0</td>\n",
       "      <td>29.0</td>\n",
       "      <td>4.0</td>\n",
       "      <td>N</td>\n",
       "      <td>2.0</td>\n",
       "      <td>0</td>\n",
       "    </tr>\n",
       "    <tr>\n",
       "      <th>6</th>\n",
       "      <td>17874_144</td>\n",
       "      <td>Y</td>\n",
       "      <td>Y_2</td>\n",
       "      <td>120.0</td>\n",
       "      <td>144.0</td>\n",
       "      <td>online</td>\n",
       "      <td>easy</td>\n",
       "      <td>17874.0</td>\n",
       "      <td>M</td>\n",
       "      <td>Bachelors</td>\n",
       "      <td>2.0</td>\n",
       "      <td>48.0</td>\n",
       "      <td>3.0</td>\n",
       "      <td>N</td>\n",
       "      <td>3.0</td>\n",
       "      <td>1</td>\n",
       "    </tr>\n",
       "    <tr>\n",
       "      <th>7</th>\n",
       "      <td>8129_61</td>\n",
       "      <td>U</td>\n",
       "      <td>U_1</td>\n",
       "      <td>134.0</td>\n",
       "      <td>NaN</td>\n",
       "      <td>online</td>\n",
       "      <td>easy</td>\n",
       "      <td>8129.0</td>\n",
       "      <td>M</td>\n",
       "      <td>Matriculation</td>\n",
       "      <td>2.0</td>\n",
       "      <td>45.0</td>\n",
       "      <td>1.0</td>\n",
       "      <td>N</td>\n",
       "      <td>1.0</td>\n",
       "      <td>1</td>\n",
       "    </tr>\n",
       "    <tr>\n",
       "      <th>8</th>\n",
       "      <td>5652_57</td>\n",
       "      <td>U</td>\n",
       "      <td>U_1</td>\n",
       "      <td>134.0</td>\n",
       "      <td>57.0</td>\n",
       "      <td>offline</td>\n",
       "      <td>easy</td>\n",
       "      <td>5652.0</td>\n",
       "      <td>M</td>\n",
       "      <td>Matriculation</td>\n",
       "      <td>4.0</td>\n",
       "      <td>NaN</td>\n",
       "      <td>3.0</td>\n",
       "      <td>N</td>\n",
       "      <td>3.0</td>\n",
       "      <td>1</td>\n",
       "    </tr>\n",
       "    <tr>\n",
       "      <th>9</th>\n",
       "      <td>17019_153</td>\n",
       "      <td>Y</td>\n",
       "      <td>Y_1</td>\n",
       "      <td>136.0</td>\n",
       "      <td>153.0</td>\n",
       "      <td>offline</td>\n",
       "      <td>hard</td>\n",
       "      <td>17019.0</td>\n",
       "      <td>M</td>\n",
       "      <td>Bachelors</td>\n",
       "      <td>3.0</td>\n",
       "      <td>28.0</td>\n",
       "      <td>2.0</td>\n",
       "      <td>N</td>\n",
       "      <td>4.0</td>\n",
       "      <td>1</td>\n",
       "    </tr>\n",
       "  </tbody>\n",
       "</table>\n",
       "</div>"
      ],
      "text/plain": [
       "      id_num program_type program_id  program_duration  test_id test_type  \\\n",
       "0   9389_150            Y        Y_1             136.0    150.0   offline   \n",
       "1   16523_44            T        T_1             131.0     44.0   offline   \n",
       "2  13987_178            Z        Z_2             120.0    178.0    online   \n",
       "3   13158_32            T        T_2             117.0     32.0   offline   \n",
       "4   10591_84            V        V_3             131.0     84.0   offline   \n",
       "5   12531_23            T        T_3             134.0     23.0   offline   \n",
       "6  17874_144            Y        Y_2             120.0    144.0    online   \n",
       "7    8129_61            U        U_1             134.0      NaN    online   \n",
       "8    5652_57            U        U_1             134.0     57.0   offline   \n",
       "9  17019_153            Y        Y_1             136.0    153.0   offline   \n",
       "\n",
       "  difficulty_level  trainee_id gender            education  city_tier   age  \\\n",
       "0     intermediate      9389.0      M        Matriculation        3.0  24.0   \n",
       "1             easy     16523.0      F  High School Diploma        4.0  26.0   \n",
       "2             easy     13987.0      M        Matriculation        1.0  40.0   \n",
       "3             easy     13158.0      F        Matriculation        3.0   NaN   \n",
       "4     intermediate     10591.0      F  High School Diploma        1.0  42.0   \n",
       "5     intermediate     12531.0      F  High School Diploma        1.0  29.0   \n",
       "6             easy     17874.0      M            Bachelors        2.0  48.0   \n",
       "7             easy      8129.0      M        Matriculation        2.0  45.0   \n",
       "8             easy      5652.0      M        Matriculation        4.0   NaN   \n",
       "9             hard     17019.0      M            Bachelors        3.0  28.0   \n",
       "\n",
       "   total_programs_enrolled is_handicapped  trainee_engagement_rating  is_pass  \n",
       "0                      5.0              N                        1.0        0  \n",
       "1                      2.0              N                        3.0        1  \n",
       "2                      1.0              N                        2.0        1  \n",
       "3                      4.0              N                        1.0        1  \n",
       "4                      2.0              N                        4.0        1  \n",
       "5                      4.0              N                        2.0        0  \n",
       "6                      3.0              N                        3.0        1  \n",
       "7                      1.0              N                        1.0        1  \n",
       "8                      3.0              N                        3.0        1  \n",
       "9                      2.0              N                        4.0        1  "
      ]
     },
     "execution_count": 2,
     "metadata": {},
     "output_type": "execute_result"
    }
   ],
   "source": [
    "data = pd.read_csv(r'C:\\Users\\姮娥\\Desktop\\Mid-TermExam\\train.csv')\n",
    "data.head(10)"
   ]
  },
  {
   "cell_type": "code",
   "execution_count": 3,
   "metadata": {},
   "outputs": [
    {
     "data": {
      "text/html": [
       "<div>\n",
       "<style scoped>\n",
       "    .dataframe tbody tr th:only-of-type {\n",
       "        vertical-align: middle;\n",
       "    }\n",
       "\n",
       "    .dataframe tbody tr th {\n",
       "        vertical-align: top;\n",
       "    }\n",
       "\n",
       "    .dataframe thead th {\n",
       "        text-align: right;\n",
       "    }\n",
       "</style>\n",
       "<table border=\"1\" class=\"dataframe\">\n",
       "  <thead>\n",
       "    <tr style=\"text-align: right;\">\n",
       "      <th></th>\n",
       "      <th>count</th>\n",
       "      <th>mean</th>\n",
       "      <th>std</th>\n",
       "      <th>min</th>\n",
       "      <th>25%</th>\n",
       "      <th>50%</th>\n",
       "      <th>75%</th>\n",
       "      <th>max</th>\n",
       "    </tr>\n",
       "  </thead>\n",
       "  <tbody>\n",
       "    <tr>\n",
       "      <th>program_duration</th>\n",
       "      <td>49323.0</td>\n",
       "      <td>128.229366</td>\n",
       "      <td>6.889967</td>\n",
       "      <td>117.0</td>\n",
       "      <td>121.0</td>\n",
       "      <td>131.0</td>\n",
       "      <td>134.0</td>\n",
       "      <td>136.0</td>\n",
       "    </tr>\n",
       "    <tr>\n",
       "      <th>test_id</th>\n",
       "      <td>49273.0</td>\n",
       "      <td>91.414345</td>\n",
       "      <td>51.307852</td>\n",
       "      <td>0.0</td>\n",
       "      <td>45.0</td>\n",
       "      <td>91.0</td>\n",
       "      <td>135.0</td>\n",
       "      <td>187.0</td>\n",
       "    </tr>\n",
       "    <tr>\n",
       "      <th>trainee_id</th>\n",
       "      <td>49259.0</td>\n",
       "      <td>9863.493128</td>\n",
       "      <td>5716.490640</td>\n",
       "      <td>1.0</td>\n",
       "      <td>5051.5</td>\n",
       "      <td>9665.0</td>\n",
       "      <td>14618.0</td>\n",
       "      <td>20097.0</td>\n",
       "    </tr>\n",
       "    <tr>\n",
       "      <th>city_tier</th>\n",
       "      <td>49298.0</td>\n",
       "      <td>2.249097</td>\n",
       "      <td>1.010896</td>\n",
       "      <td>1.0</td>\n",
       "      <td>1.0</td>\n",
       "      <td>2.0</td>\n",
       "      <td>3.0</td>\n",
       "      <td>4.0</td>\n",
       "    </tr>\n",
       "    <tr>\n",
       "      <th>age</th>\n",
       "      <td>30619.0</td>\n",
       "      <td>36.514256</td>\n",
       "      <td>9.045487</td>\n",
       "      <td>17.0</td>\n",
       "      <td>28.0</td>\n",
       "      <td>40.0</td>\n",
       "      <td>45.0</td>\n",
       "      <td>63.0</td>\n",
       "    </tr>\n",
       "    <tr>\n",
       "      <th>total_programs_enrolled</th>\n",
       "      <td>49306.0</td>\n",
       "      <td>2.583114</td>\n",
       "      <td>1.239399</td>\n",
       "      <td>1.0</td>\n",
       "      <td>2.0</td>\n",
       "      <td>2.0</td>\n",
       "      <td>3.0</td>\n",
       "      <td>14.0</td>\n",
       "    </tr>\n",
       "    <tr>\n",
       "      <th>trainee_engagement_rating</th>\n",
       "      <td>49226.0</td>\n",
       "      <td>2.397818</td>\n",
       "      <td>1.326378</td>\n",
       "      <td>1.0</td>\n",
       "      <td>1.0</td>\n",
       "      <td>2.0</td>\n",
       "      <td>4.0</td>\n",
       "      <td>5.0</td>\n",
       "    </tr>\n",
       "    <tr>\n",
       "      <th>is_pass</th>\n",
       "      <td>49998.0</td>\n",
       "      <td>0.696288</td>\n",
       "      <td>0.459864</td>\n",
       "      <td>0.0</td>\n",
       "      <td>0.0</td>\n",
       "      <td>1.0</td>\n",
       "      <td>1.0</td>\n",
       "      <td>1.0</td>\n",
       "    </tr>\n",
       "  </tbody>\n",
       "</table>\n",
       "</div>"
      ],
      "text/plain": [
       "                             count         mean          std    min     25%  \\\n",
       "program_duration           49323.0   128.229366     6.889967  117.0   121.0   \n",
       "test_id                    49273.0    91.414345    51.307852    0.0    45.0   \n",
       "trainee_id                 49259.0  9863.493128  5716.490640    1.0  5051.5   \n",
       "city_tier                  49298.0     2.249097     1.010896    1.0     1.0   \n",
       "age                        30619.0    36.514256     9.045487   17.0    28.0   \n",
       "total_programs_enrolled    49306.0     2.583114     1.239399    1.0     2.0   \n",
       "trainee_engagement_rating  49226.0     2.397818     1.326378    1.0     1.0   \n",
       "is_pass                    49998.0     0.696288     0.459864    0.0     0.0   \n",
       "\n",
       "                              50%      75%      max  \n",
       "program_duration            131.0    134.0    136.0  \n",
       "test_id                      91.0    135.0    187.0  \n",
       "trainee_id                 9665.0  14618.0  20097.0  \n",
       "city_tier                     2.0      3.0      4.0  \n",
       "age                          40.0     45.0     63.0  \n",
       "total_programs_enrolled       2.0      3.0     14.0  \n",
       "trainee_engagement_rating     2.0      4.0      5.0  \n",
       "is_pass                       1.0      1.0      1.0  "
      ]
     },
     "execution_count": 3,
     "metadata": {},
     "output_type": "execute_result"
    },
    {
     "name": "stdout",
     "output_type": "stream",
     "text": [
      "<class 'pandas.core.frame.DataFrame'>\n",
      "RangeIndex: 49998 entries, 0 to 49997\n",
      "Data columns (total 16 columns):\n",
      " #   Column                     Non-Null Count  Dtype  \n",
      "---  ------                     --------------  -----  \n",
      " 0   id_num                     49998 non-null  object \n",
      " 1   program_type               49267 non-null  object \n",
      " 2   program_id                 49299 non-null  object \n",
      " 3   program_duration           49323 non-null  float64\n",
      " 4   test_id                    49273 non-null  float64\n",
      " 5   test_type                  49296 non-null  object \n",
      " 6   difficulty_level           49295 non-null  object \n",
      " 7   trainee_id                 49259 non-null  float64\n",
      " 8   gender                     49291 non-null  object \n",
      " 9   education                  49296 non-null  object \n",
      " 10  city_tier                  49298 non-null  float64\n",
      " 11  age                        30619 non-null  float64\n",
      " 12  total_programs_enrolled    49306 non-null  float64\n",
      " 13  is_handicapped             49280 non-null  object \n",
      " 14  trainee_engagement_rating  49226 non-null  float64\n",
      " 15  is_pass                    49998 non-null  int64  \n",
      "dtypes: float64(7), int64(1), object(8)\n",
      "memory usage: 6.1+ MB\n"
     ]
    },
    {
     "data": {
      "text/plain": [
       "<AxesSubplot:>"
      ]
     },
     "execution_count": 3,
     "metadata": {},
     "output_type": "execute_result"
    },
    {
     "data": {
      "image/png": "[encoded data removed]",
      "text/plain": [
       "<Figure size 720x288 with 2 Axes>"
      ]
     },
     "metadata": {
      "needs_background": "light"
     },
     "output_type": "display_data"
    }
   ],
   "source": [
    "data.describe().T\n",
    "data.info()\n",
    "msno.matrix(data, figsize=(10, 4))"
   ]
  },
  {
   "cell_type": "markdown",
   "metadata": {},
   "source": [
    "**用seaborn画出柱状图，大概查看一个各个特征和是否通过的关系**"
   ]
  },
  {
   "cell_type": "code",
   "execution_count": 4,
   "metadata": {},
   "outputs": [
    {
     "data": {
      "text/plain": [
       "<AxesSubplot:xlabel='program_type', ylabel='is_pass'>"
      ]
     },
     "execution_count": 4,
     "metadata": {},
     "output_type": "execute_result"
    },
    {
     "data": {
      "image/png": "[encoded data removed]",
      "text/plain": [
       "<Figure size 432x288 with 1 Axes>"
      ]
     },
     "metadata": {
      "needs_background": "light"
     },
     "output_type": "display_data"
    }
   ],
   "source": [
    "sns.barplot(x=\"program_type\", y=\"is_pass\", data=data)"
   ]
  },
  {
   "cell_type": "code",
   "execution_count": 5,
   "metadata": {},
   "outputs": [
    {
     "data": {
      "text/plain": [
       "<AxesSubplot:xlabel='program_id', ylabel='is_pass'>"
      ]
     },
     "execution_count": 5,
     "metadata": {},
     "output_type": "execute_result"
    },
    {
     "data": {
      "image/png": "[encoded data removed]",
      "text/plain": [
       "<Figure size 432x288 with 1 Axes>"
      ]
     },
     "metadata": {
      "needs_background": "light"
     },
     "output_type": "display_data"
    }
   ],
   "source": [
    "sns.barplot(x=\"program_id\", y=\"is_pass\", data=data)"
   ]
  },
  {
   "cell_type": "code",
   "execution_count": 6,
   "metadata": {
    "scrolled": true
   },
   "outputs": [
    {
     "data": {
      "text/plain": [
       "<AxesSubplot:xlabel='city_tier', ylabel='is_pass'>"
      ]
     },
     "execution_count": 6,
     "metadata": {},
     "output_type": "execute_result"
    },
    {
     "data": {
      "image/png": "[encoded data removed]",
      "text/plain": [
       "<Figure size 432x288 with 1 Axes>"
      ]
     },
     "metadata": {
      "needs_background": "light"
     },
     "output_type": "display_data"
    }
   ],
   "source": [
    "sns.barplot(x=\"city_tier\", y=\"is_pass\", data=data)"
   ]
  },
  {
   "cell_type": "code",
   "execution_count": 7,
   "metadata": {},
   "outputs": [
    {
     "data": {
      "text/plain": [
       "<AxesSubplot:xlabel='program_duration', ylabel='is_pass'>"
      ]
     },
     "execution_count": 7,
     "metadata": {},
     "output_type": "execute_result"
    },
    {
     "data": {
      "image/png": "[encoded data removed]",
      "text/plain": [
       "<Figure size 432x288 with 1 Axes>"
      ]
     },
     "metadata": {
      "needs_background": "light"
     },
     "output_type": "display_data"
    }
   ],
   "source": [
    "sns.barplot(x=\"program_duration\", y=\"is_pass\", data=data)"
   ]
  },
  {
   "cell_type": "code",
   "execution_count": 8,
   "metadata": {},
   "outputs": [
    {
     "data": {
      "text/plain": [
       "<AxesSubplot:xlabel='total_programs_enrolled', ylabel='is_pass'>"
      ]
     },
     "execution_count": 8,
     "metadata": {},
     "output_type": "execute_result"
    },
    {
     "data": {
      "image/png": "[encoded data removed]",
      "text/plain": [
       "<Figure size 432x288 with 1 Axes>"
      ]
     },
     "metadata": {
      "needs_background": "light"
     },
     "output_type": "display_data"
    }
   ],
   "source": [
    "sns.barplot(x=\"total_programs_enrolled\", y=\"is_pass\", data=data)"
   ]
  },
  {
   "cell_type": "code",
   "execution_count": 9,
   "metadata": {},
   "outputs": [
    {
     "data": {
      "text/plain": [
       "<AxesSubplot:xlabel='difficulty_level', ylabel='is_pass'>"
      ]
     },
     "execution_count": 9,
     "metadata": {},
     "output_type": "execute_result"
    },
    {
     "data": {
      "image/png": "[encoded data removed]",
      "text/plain": [
       "<Figure size 432x288 with 1 Axes>"
      ]
     },
     "metadata": {
      "needs_background": "light"
     },
     "output_type": "display_data"
    }
   ],
   "source": [
    "sns.barplot(x=\"difficulty_level\", y=\"is_pass\", data=data)"
   ]
  },
  {
   "cell_type": "code",
   "execution_count": 10,
   "metadata": {},
   "outputs": [
    {
     "data": {
      "text/plain": [
       "<AxesSubplot:xlabel='test_type', ylabel='is_pass'>"
      ]
     },
     "execution_count": 10,
     "metadata": {},
     "output_type": "execute_result"
    },
    {
     "data": {
      "image/png": "[encoded data removed]",
      "text/plain": [
       "<Figure size 432x288 with 1 Axes>"
      ]
     },
     "metadata": {
      "needs_background": "light"
     },
     "output_type": "display_data"
    }
   ],
   "source": [
    "sns.barplot(x=\"test_type\", y=\"is_pass\", data=data)"
   ]
  },
  {
   "cell_type": "code",
   "execution_count": 11,
   "metadata": {
    "scrolled": true
   },
   "outputs": [
    {
     "data": {
      "text/plain": [
       "<AxesSubplot:xlabel='gender', ylabel='is_pass'>"
      ]
     },
     "execution_count": 11,
     "metadata": {},
     "output_type": "execute_result"
    },
    {
     "data": {
      "image/png": "[encoded data removed]",
      "text/plain": [
       "<Figure size 432x288 with 1 Axes>"
      ]
     },
     "metadata": {
      "needs_background": "light"
     },
     "output_type": "display_data"
    }
   ],
   "source": [
    "sns.barplot(x=\"gender\", y=\"is_pass\", data=data)"
   ]
  },
  {
   "cell_type": "code",
   "execution_count": 12,
   "metadata": {},
   "outputs": [
    {
     "data": {
      "text/plain": [
       "<AxesSubplot:xlabel='education', ylabel='is_pass'>"
      ]
     },
     "execution_count": 12,
     "metadata": {},
     "output_type": "execute_result"
    },
    {
     "data": {
      "image/png": "[encoded data removed]",
      "text/plain": [
       "<Figure size 432x288 with 1 Axes>"
      ]
     },
     "metadata": {
      "needs_background": "light"
     },
     "output_type": "display_data"
    }
   ],
   "source": [
    "sns.barplot(x=\"education\", y=\"is_pass\", data=data)"
   ]
  },
  {
   "cell_type": "code",
   "execution_count": 13,
   "metadata": {},
   "outputs": [
    {
     "data": {
      "text/plain": [
       "<AxesSubplot:xlabel='is_handicapped', ylabel='is_pass'>"
      ]
     },
     "execution_count": 13,
     "metadata": {},
     "output_type": "execute_result"
    },
    {
     "data": {
      "image/png": "[encoded data removed]",
      "text/plain": [
       "<Figure size 432x288 with 1 Axes>"
      ]
     },
     "metadata": {
      "needs_background": "light"
     },
     "output_type": "display_data"
    }
   ],
   "source": [
    "sns.barplot(x=\"is_handicapped\", y=\"is_pass\", data=data)"
   ]
  },
  {
   "cell_type": "code",
   "execution_count": 14,
   "metadata": {},
   "outputs": [
    {
     "data": {
      "text/plain": [
       "<AxesSubplot:xlabel='trainee_engagement_rating', ylabel='is_pass'>"
      ]
     },
     "execution_count": 14,
     "metadata": {},
     "output_type": "execute_result"
    },
    {
     "data": {
      "image/png": "[encoded data removed]",
      "text/plain": [
       "<Figure size 432x288 with 1 Axes>"
      ]
     },
     "metadata": {
      "needs_background": "light"
     },
     "output_type": "display_data"
    }
   ],
   "source": [
    "sns.barplot(x=\"trainee_engagement_rating\", y=\"is_pass\", data=data)"
   ]
  },
  {
   "cell_type": "markdown",
   "metadata": {},
   "source": [
    "\n",
    "## 数据预处理\n"
   ]
  },
  {
   "cell_type": "code",
   "execution_count": 15,
   "metadata": {},
   "outputs": [],
   "source": [
    "#找每个特征出现最多的元素\n",
    "\n",
    "#用出现最多的元素填空\n",
    "\n",
    "# data.mode()\n",
    "\n",
    "# data['program_type'] = data['program_type'].fillna('Y')\n",
    "# data['program_duration'] = data['program_duration'].fillna(134.0)\n",
    "# data['test_type'] = data['test_type'].fillna('offline')\n",
    "# data['difficulty_level'] = data['difficulty_level'].fillna('easy')\n",
    "# data['gender'] = data['gender'].fillna('M')\n",
    "# data['education'] = data['education'].fillna('High School Diploma')\n",
    "# data['city_tier'] = data['city_tier'].fillna(3.0)\n",
    "# data['total_programs_enrolled'] = data['total_programs_enrolled'].fillna(2.0)\n",
    "# data['is_handicapped'] = data['is_handicapped'].fillna('N')\n",
    "# data['trainee_engagement_rating'] = data['trainee_engagement_rating'].fillna(1.0)\n",
    "# msno.matrix(data, figsize=(16, 8))"
   ]
  },
  {
   "cell_type": "markdown",
   "metadata": {},
   "source": [
    "**除了age外，将其他特征有缺失值的行删除**"
   ]
  },
  {
   "cell_type": "code",
   "execution_count": 15,
   "metadata": {},
   "outputs": [
    {
     "data": {
      "text/html": [
       "<div>\n",
       "<style scoped>\n",
       "    .dataframe tbody tr th:only-of-type {\n",
       "        vertical-align: middle;\n",
       "    }\n",
       "\n",
       "    .dataframe tbody tr th {\n",
       "        vertical-align: top;\n",
       "    }\n",
       "\n",
       "    .dataframe thead th {\n",
       "        text-align: right;\n",
       "    }\n",
       "</style>\n",
       "<table border=\"1\" class=\"dataframe\">\n",
       "  <thead>\n",
       "    <tr style=\"text-align: right;\">\n",
       "      <th></th>\n",
       "      <th>program_duration</th>\n",
       "      <th>test_id</th>\n",
       "      <th>trainee_id</th>\n",
       "      <th>city_tier</th>\n",
       "      <th>age</th>\n",
       "      <th>total_programs_enrolled</th>\n",
       "      <th>trainee_engagement_rating</th>\n",
       "      <th>is_pass</th>\n",
       "    </tr>\n",
       "  </thead>\n",
       "  <tbody>\n",
       "    <tr>\n",
       "      <th>count</th>\n",
       "      <td>49323.000000</td>\n",
       "      <td>49273.000000</td>\n",
       "      <td>49259.000000</td>\n",
       "      <td>49298.000000</td>\n",
       "      <td>30619.000000</td>\n",
       "      <td>49306.000000</td>\n",
       "      <td>49226.000000</td>\n",
       "      <td>49998.000000</td>\n",
       "    </tr>\n",
       "    <tr>\n",
       "      <th>mean</th>\n",
       "      <td>128.229366</td>\n",
       "      <td>91.414345</td>\n",
       "      <td>9863.493128</td>\n",
       "      <td>2.249097</td>\n",
       "      <td>36.514256</td>\n",
       "      <td>2.583114</td>\n",
       "      <td>2.397818</td>\n",
       "      <td>0.696288</td>\n",
       "    </tr>\n",
       "    <tr>\n",
       "      <th>std</th>\n",
       "      <td>6.889967</td>\n",
       "      <td>51.307852</td>\n",
       "      <td>5716.490640</td>\n",
       "      <td>1.010896</td>\n",
       "      <td>9.045487</td>\n",
       "      <td>1.239399</td>\n",
       "      <td>1.326378</td>\n",
       "      <td>0.459864</td>\n",
       "    </tr>\n",
       "    <tr>\n",
       "      <th>min</th>\n",
       "      <td>117.000000</td>\n",
       "      <td>0.000000</td>\n",
       "      <td>1.000000</td>\n",
       "      <td>1.000000</td>\n",
       "      <td>17.000000</td>\n",
       "      <td>1.000000</td>\n",
       "      <td>1.000000</td>\n",
       "      <td>0.000000</td>\n",
       "    </tr>\n",
       "    <tr>\n",
       "      <th>25%</th>\n",
       "      <td>121.000000</td>\n",
       "      <td>45.000000</td>\n",
       "      <td>5051.500000</td>\n",
       "      <td>1.000000</td>\n",
       "      <td>28.000000</td>\n",
       "      <td>2.000000</td>\n",
       "      <td>1.000000</td>\n",
       "      <td>0.000000</td>\n",
       "    </tr>\n",
       "    <tr>\n",
       "      <th>50%</th>\n",
       "      <td>131.000000</td>\n",
       "      <td>91.000000</td>\n",
       "      <td>9665.000000</td>\n",
       "      <td>2.000000</td>\n",
       "      <td>40.000000</td>\n",
       "      <td>2.000000</td>\n",
       "      <td>2.000000</td>\n",
       "      <td>1.000000</td>\n",
       "    </tr>\n",
       "    <tr>\n",
       "      <th>75%</th>\n",
       "      <td>134.000000</td>\n",
       "      <td>135.000000</td>\n",
       "      <td>14618.000000</td>\n",
       "      <td>3.000000</td>\n",
       "      <td>45.000000</td>\n",
       "      <td>3.000000</td>\n",
       "      <td>4.000000</td>\n",
       "      <td>1.000000</td>\n",
       "    </tr>\n",
       "    <tr>\n",
       "      <th>max</th>\n",
       "      <td>136.000000</td>\n",
       "      <td>187.000000</td>\n",
       "      <td>20097.000000</td>\n",
       "      <td>4.000000</td>\n",
       "      <td>63.000000</td>\n",
       "      <td>14.000000</td>\n",
       "      <td>5.000000</td>\n",
       "      <td>1.000000</td>\n",
       "    </tr>\n",
       "  </tbody>\n",
       "</table>\n",
       "</div>"
      ],
      "text/plain": [
       "       program_duration       test_id    trainee_id     city_tier  \\\n",
       "count      49323.000000  49273.000000  49259.000000  49298.000000   \n",
       "mean         128.229366     91.414345   9863.493128      2.249097   \n",
       "std            6.889967     51.307852   5716.490640      1.010896   \n",
       "min          117.000000      0.000000      1.000000      1.000000   \n",
       "25%          121.000000     45.000000   5051.500000      1.000000   \n",
       "50%          131.000000     91.000000   9665.000000      2.000000   \n",
       "75%          134.000000    135.000000  14618.000000      3.000000   \n",
       "max          136.000000    187.000000  20097.000000      4.000000   \n",
       "\n",
       "                age  total_programs_enrolled  trainee_engagement_rating  \\\n",
       "count  30619.000000             49306.000000               49226.000000   \n",
       "mean      36.514256                 2.583114                   2.397818   \n",
       "std        9.045487                 1.239399                   1.326378   \n",
       "min       17.000000                 1.000000                   1.000000   \n",
       "25%       28.000000                 2.000000                   1.000000   \n",
       "50%       40.000000                 2.000000                   2.000000   \n",
       "75%       45.000000                 3.000000                   4.000000   \n",
       "max       63.000000                14.000000                   5.000000   \n",
       "\n",
       "            is_pass  \n",
       "count  49998.000000  \n",
       "mean       0.696288  \n",
       "std        0.459864  \n",
       "min        0.000000  \n",
       "25%        0.000000  \n",
       "50%        1.000000  \n",
       "75%        1.000000  \n",
       "max        1.000000  "
      ]
     },
     "execution_count": 15,
     "metadata": {},
     "output_type": "execute_result"
    },
    {
     "data": {
      "text/plain": [
       "<AxesSubplot:>"
      ]
     },
     "execution_count": 15,
     "metadata": {},
     "output_type": "execute_result"
    },
    {
     "data": {
      "image/png": "[encoded data removed]",
      "text/plain": [
       "<Figure size 1152x576 with 2 Axes>"
      ]
     },
     "metadata": {
      "needs_background": "light"
     },
     "output_type": "display_data"
    }
   ],
   "source": [
    "data.describe()\n",
    "data = data.dropna(axis=0,subset = [\"program_type\",\"program_duration\",\n",
    "                     \"test_type\",\"difficulty_level\",\"gender\",\"education\",\"city_tier\",\n",
    "                     \"total_programs_enrolled\",\"is_handicapped\",\"trainee_engagement_rating\"])\n",
    "msno.matrix(data, figsize=(16, 8))"
   ]
  },
  {
   "cell_type": "code",
   "execution_count": 17,
   "metadata": {},
   "outputs": [],
   "source": [
    "#特征age用平均值填补\n",
    "\n",
    "# data['age'] = data['age'].fillna(data['age'].mean())\n",
    "# data.describe()\n",
    "# data['age'].isnull() "
   ]
  },
  {
   "cell_type": "markdown",
   "metadata": {},
   "source": [
    "**将非数字信息换成数字信息**"
   ]
  },
  {
   "cell_type": "code",
   "execution_count": 16,
   "metadata": {},
   "outputs": [
    {
     "name": "stdout",
     "output_type": "stream",
     "text": [
      "['M' 'F']\n",
      "[0 1]\n"
     ]
    }
   ],
   "source": [
    "print(data['gender'].unique()) # 查看gender特征有哪些值\n",
    "# loc定位到目标行，对Sex特征进行独热编码\n",
    "data.loc[data['gender'] == 'M', 'gender'] = 0 # 另Sex等于male那行的Sex值为0\n",
    "data.loc[data['gender'] == 'F', 'gender'] = 1 # 另Sex等于female那行的Sex值为1\n",
    "print(data['gender'].unique())"
   ]
  },
  {
   "cell_type": "code",
   "execution_count": 17,
   "metadata": {},
   "outputs": [
    {
     "name": "stdout",
     "output_type": "stream",
     "text": [
      "['Y' 'T' 'Z' 'V' 'U' 'X' 'S']\n",
      "[0 1 2 3 4 5 6]\n"
     ]
    }
   ],
   "source": [
    "print(data['program_type'].unique())\n",
    "data.loc[data['program_type'] == 'Y', 'program_type'] = 0\n",
    "data.loc[data['program_type'] == 'T', 'program_type'] = 1\n",
    "data.loc[data['program_type'] == 'Z', 'program_type'] = 2\n",
    "data.loc[data['program_type'] == 'V', 'program_type'] = 3\n",
    "data.loc[data['program_type'] == 'U', 'program_type'] = 4\n",
    "data.loc[data['program_type'] == 'X', 'program_type'] = 5\n",
    "data.loc[data['program_type'] == 'S', 'program_type'] = 6 \n",
    "print(data['program_type'].unique())"
   ]
  },
  {
   "cell_type": "code",
   "execution_count": 18,
   "metadata": {},
   "outputs": [
    {
     "name": "stdout",
     "output_type": "stream",
     "text": [
      "['offline' 'online']\n",
      "[1 2]\n"
     ]
    }
   ],
   "source": [
    "print(data['test_type'].unique())\n",
    "data.loc[data['test_type'] == 'offline', 'test_type'] = 1\n",
    "data.loc[data['test_type'] == 'online', 'test_type'] = 2\n",
    "print(data['test_type'].unique())"
   ]
  },
  {
   "cell_type": "code",
   "execution_count": 19,
   "metadata": {},
   "outputs": [
    {
     "name": "stdout",
     "output_type": "stream",
     "text": [
      "['intermediate' 'easy' 'hard' 'vary hard']\n",
      "[2 1 3 4]\n"
     ]
    }
   ],
   "source": [
    "print(data['difficulty_level'].unique())\n",
    "data.loc[data['difficulty_level'] == 'easy', 'difficulty_level'] = 1\n",
    "data.loc[data['difficulty_level'] == 'intermediate', 'difficulty_level'] = 2\n",
    "data.loc[data['difficulty_level'] == 'hard', 'difficulty_level'] = 3\n",
    "data.loc[data['difficulty_level'] == 'vary hard', 'difficulty_level'] = 4\n",
    "print(data['difficulty_level'].unique())"
   ]
  },
  {
   "cell_type": "code",
   "execution_count": 20,
   "metadata": {},
   "outputs": [
    {
     "name": "stdout",
     "output_type": "stream",
     "text": [
      "['Matriculation' 'High School Diploma' 'Bachelors' 'Masters'\n",
      " 'No Qualification']\n",
      "[2 3 4 5 1]\n"
     ]
    }
   ],
   "source": [
    "print(data['education'].unique())\n",
    "data.loc[data['education'] == 'No Qualification', 'education'] = 1\n",
    "data.loc[data['education'] == 'Matriculation', 'education'] = 2\n",
    "data.loc[data['education'] == 'High School Diploma', 'education'] = 3\n",
    "data.loc[data['education'] == 'Bachelors', 'education'] = 4\n",
    "data.loc[data['education'] == 'Masters', 'education'] = 5\n",
    "print(data['education'].unique())"
   ]
  },
  {
   "cell_type": "code",
   "execution_count": 21,
   "metadata": {},
   "outputs": [
    {
     "name": "stdout",
     "output_type": "stream",
     "text": [
      "['N' 'Y']\n",
      "[2 1]\n"
     ]
    }
   ],
   "source": [
    "print(data['is_handicapped'].unique())\n",
    "data.loc[data['is_handicapped'] == 'N', 'is_handicapped'] = 2\n",
    "data.loc[data['is_handicapped'] == 'Y', 'is_handicapped'] = 1\n",
    "print(data['is_handicapped'].unique())"
   ]
  },
  {
   "cell_type": "code",
   "execution_count": 22,
   "metadata": {},
   "outputs": [],
   "source": [
    "predictors = [\"program_type\",\"test_type\",\"difficulty_level\",\n",
    "               \"education\",\"city_tier\",\"age\",\"gender\",\n",
    "              \"trainee_engagement_rating\",\"program_duration\",\"is_handicapped\"]"
   ]
  },
  {
   "cell_type": "markdown",
   "metadata": {},
   "source": [
    "\n",
    "**age的缺失值用随机森林填补**"
   ]
  },
  {
   "cell_type": "code",
   "execution_count": 23,
   "metadata": {},
   "outputs": [
    {
     "data": {
      "text/plain": [
       "RandomForestRegressor()"
      ]
     },
     "execution_count": 23,
     "metadata": {},
     "output_type": "execute_result"
    },
    {
     "name": "stdout",
     "output_type": "stream",
     "text": [
      "Traing Score:0.167359\n",
      "Testing Score:0.167359\n"
     ]
    },
    {
     "data": {
      "text/plain": [
       "array([[1, 1, 1, 3.0, 1.0, 117.0],\n",
       "       [4, 1, 0, 4.0, 3.0, 134.0],\n",
       "       [3, 1, 1, 3.0, 4.0, 131.0],\n",
       "       ...,\n",
       "       [4, 2, 0, 2.0, 4.0, 134.0],\n",
       "       [0, 1, 1, 2.0, 4.0, 121.0],\n",
       "       [0, 1, 0, 3.0, 5.0, 121.0]], dtype=object)"
      ]
     },
     "execution_count": 23,
     "metadata": {},
     "output_type": "execute_result"
    }
   ],
   "source": [
    "#使用 RandomForestClassifier 填补缺失的年龄属性\n",
    "from sklearn.ensemble import RandomForestRegressor\n",
    "from sklearn.model_selection import cross_val_score\n",
    "from sklearn import preprocessing\n",
    "from sklearn.ensemble import RandomForestRegressor\n",
    "\n",
    "train_age = [\"program_type\",\"test_type\",\"gender\",\"city_tier\",\"trainee_engagement_rating\",\"program_duration\"]\n",
    "\n",
    "scaler = preprocessing.StandardScaler().fit(data[train_age][data.age.notnull()])\n",
    "age_training = scaler.transform(data[train_age][data.age.notnull()])\n",
    "\n",
    "regr = skl.ensemble.RandomForestRegressor()\n",
    "regr.fit(age_training, data['age'][data.age.notnull()].values)\n",
    "print(\"Traing Score:%f\"%regr.score(age_training,data['age'][data.age.notnull()].values))\n",
    "print(\"Testing Score:%f\"%regr.score(age_training,data['age'][data.age.notnull()].values))\n",
    "\n",
    "data[train_age][data.age.isnull()].values\n",
    "\n",
    "fillage = regr.predict(data[train_age][data.age.isnull()].values)"
   ]
  },
  {
   "cell_type": "code",
   "execution_count": 24,
   "metadata": {
    "scrolled": false
   },
   "outputs": [
    {
     "data": {
      "text/plain": [
       "<AxesSubplot:>"
      ]
     },
     "execution_count": 24,
     "metadata": {},
     "output_type": "execute_result"
    },
    {
     "data": {
      "image/png": "[encoded data removed]",
      "text/plain": [
       "<Figure size 1152x576 with 2 Axes>"
      ]
     },
     "metadata": {
      "needs_background": "light"
     },
     "output_type": "display_data"
    }
   ],
   "source": [
    "data.loc[(data.age.isnull()), 'age'] = fillage\n",
    "msno.matrix(data, figsize=(16, 8))"
   ]
  },
  {
   "cell_type": "markdown",
   "metadata": {},
   "source": [
    "**用线性回归拟合年龄**"
   ]
  },
  {
   "cell_type": "code",
   "execution_count": 16,
   "metadata": {},
   "outputs": [],
   "source": [
    "# from sklearn.linear_model import LinearRegression\n",
    "# from sklearn.model_selection import KFold\n",
    "\n",
    "# age_xtrain = data[train_age][data.age.notnull()]\n",
    "# age_ytrain = data['age'][data.age.notnull()]\n",
    "\n",
    "# kf = KFold(n_splits=4)\n",
    "# lin_reg_age = LinearRegression()\n",
    "\n",
    "# predict_age= []\n",
    "\n",
    "# target = age_ytrain\n",
    "\n",
    "# for train_index, test_index in kf.split(age_xtrain):\n",
    "#     train_predictors = (age_xtrain.iloc[train_index,:]) # 取出训练数据\n",
    "#     train_target = age_ytrain.iloc[train_index] # 获取到数据集中交叉分类好的标签，即是否通过\n",
    "#     lin_reg_age.fit(train_predictors, train_target) # 训练模型\n",
    "#     test_predictions = lin_reg_age.predict(age_xtrain.iloc[test_index,:]) # 检验模型误差\n",
    "#     predict_age.append(test_predictions)\n",
    "    "
   ]
  },
  {
   "cell_type": "code",
   "execution_count": 17,
   "metadata": {},
   "outputs": [],
   "source": [
    "# fill_age = lin_reg_age.predict(data[train_age][data.age.isnull()])\n",
    "# data.loc[(data.age.isnull()), 'age'] = fillage"
   ]
  },
  {
   "cell_type": "markdown",
   "metadata": {},
   "source": [
    "# 添加特征"
   ]
  },
  {
   "cell_type": "markdown",
   "metadata": {},
   "source": [
    "**一顿操作后发现这个东西影响后续操作，故把它引了**"
   ]
  },
  {
   "cell_type": "code",
   "execution_count": 33,
   "metadata": {},
   "outputs": [
    {
     "data": {
      "text/plain": [
       "0        (16.954, 32.333]\n",
       "1        (16.954, 32.333]\n",
       "2        (32.333, 47.667]\n",
       "3        (32.333, 47.667]\n",
       "4        (32.333, 47.667]\n",
       "               ...       \n",
       "49991    (16.954, 32.333]\n",
       "49992    (16.954, 32.333]\n",
       "49993    (32.333, 47.667]\n",
       "49995    (32.333, 47.667]\n",
       "49996    (32.333, 47.667]\n",
       "Name: age, Length: 43319, dtype: category\n",
       "Categories (3, interval[float64]): [(16.954, 32.333] < (32.333, 47.667] < (47.667, 63.0]]"
      ]
     },
     "execution_count": 33,
     "metadata": {},
     "output_type": "execute_result"
    },
    {
     "data": {
      "text/html": [
       "<div>\n",
       "<style scoped>\n",
       "    .dataframe tbody tr th:only-of-type {\n",
       "        vertical-align: middle;\n",
       "    }\n",
       "\n",
       "    .dataframe tbody tr th {\n",
       "        vertical-align: top;\n",
       "    }\n",
       "\n",
       "    .dataframe thead th {\n",
       "        text-align: right;\n",
       "    }\n",
       "</style>\n",
       "<table border=\"1\" class=\"dataframe\">\n",
       "  <thead>\n",
       "    <tr style=\"text-align: right;\">\n",
       "      <th></th>\n",
       "      <th>id_num</th>\n",
       "      <th>program_type</th>\n",
       "      <th>program_id</th>\n",
       "      <th>program_duration</th>\n",
       "      <th>test_id</th>\n",
       "      <th>test_type</th>\n",
       "      <th>difficulty_level</th>\n",
       "      <th>trainee_id</th>\n",
       "      <th>gender</th>\n",
       "      <th>education</th>\n",
       "      <th>city_tier</th>\n",
       "      <th>age</th>\n",
       "      <th>total_programs_enrolled</th>\n",
       "      <th>is_handicapped</th>\n",
       "      <th>trainee_engagement_rating</th>\n",
       "      <th>is_pass</th>\n",
       "      <th>discreat_age_youth</th>\n",
       "      <th>discreat_age_middle</th>\n",
       "      <th>discreat_age_elder</th>\n",
       "    </tr>\n",
       "  </thead>\n",
       "  <tbody>\n",
       "    <tr>\n",
       "      <th>0</th>\n",
       "      <td>9389_150</td>\n",
       "      <td>0</td>\n",
       "      <td>Y_1</td>\n",
       "      <td>136.0</td>\n",
       "      <td>150.0</td>\n",
       "      <td>1</td>\n",
       "      <td>2</td>\n",
       "      <td>9389.0</td>\n",
       "      <td>0</td>\n",
       "      <td>2</td>\n",
       "      <td>3.0</td>\n",
       "      <td>24.000000</td>\n",
       "      <td>5.0</td>\n",
       "      <td>2</td>\n",
       "      <td>1.0</td>\n",
       "      <td>0</td>\n",
       "      <td>1</td>\n",
       "      <td>0</td>\n",
       "      <td>0</td>\n",
       "    </tr>\n",
       "    <tr>\n",
       "      <th>1</th>\n",
       "      <td>16523_44</td>\n",
       "      <td>1</td>\n",
       "      <td>T_1</td>\n",
       "      <td>131.0</td>\n",
       "      <td>44.0</td>\n",
       "      <td>1</td>\n",
       "      <td>1</td>\n",
       "      <td>16523.0</td>\n",
       "      <td>1</td>\n",
       "      <td>3</td>\n",
       "      <td>4.0</td>\n",
       "      <td>26.000000</td>\n",
       "      <td>2.0</td>\n",
       "      <td>2</td>\n",
       "      <td>3.0</td>\n",
       "      <td>1</td>\n",
       "      <td>1</td>\n",
       "      <td>0</td>\n",
       "      <td>0</td>\n",
       "    </tr>\n",
       "    <tr>\n",
       "      <th>2</th>\n",
       "      <td>13987_178</td>\n",
       "      <td>2</td>\n",
       "      <td>Z_2</td>\n",
       "      <td>120.0</td>\n",
       "      <td>178.0</td>\n",
       "      <td>2</td>\n",
       "      <td>1</td>\n",
       "      <td>13987.0</td>\n",
       "      <td>0</td>\n",
       "      <td>2</td>\n",
       "      <td>1.0</td>\n",
       "      <td>40.000000</td>\n",
       "      <td>1.0</td>\n",
       "      <td>2</td>\n",
       "      <td>2.0</td>\n",
       "      <td>1</td>\n",
       "      <td>0</td>\n",
       "      <td>1</td>\n",
       "      <td>0</td>\n",
       "    </tr>\n",
       "    <tr>\n",
       "      <th>3</th>\n",
       "      <td>13158_32</td>\n",
       "      <td>1</td>\n",
       "      <td>T_2</td>\n",
       "      <td>117.0</td>\n",
       "      <td>32.0</td>\n",
       "      <td>1</td>\n",
       "      <td>1</td>\n",
       "      <td>13158.0</td>\n",
       "      <td>1</td>\n",
       "      <td>2</td>\n",
       "      <td>3.0</td>\n",
       "      <td>41.327538</td>\n",
       "      <td>4.0</td>\n",
       "      <td>2</td>\n",
       "      <td>1.0</td>\n",
       "      <td>1</td>\n",
       "      <td>0</td>\n",
       "      <td>1</td>\n",
       "      <td>0</td>\n",
       "    </tr>\n",
       "    <tr>\n",
       "      <th>4</th>\n",
       "      <td>10591_84</td>\n",
       "      <td>3</td>\n",
       "      <td>V_3</td>\n",
       "      <td>131.0</td>\n",
       "      <td>84.0</td>\n",
       "      <td>1</td>\n",
       "      <td>2</td>\n",
       "      <td>10591.0</td>\n",
       "      <td>1</td>\n",
       "      <td>3</td>\n",
       "      <td>1.0</td>\n",
       "      <td>42.000000</td>\n",
       "      <td>2.0</td>\n",
       "      <td>2</td>\n",
       "      <td>4.0</td>\n",
       "      <td>1</td>\n",
       "      <td>0</td>\n",
       "      <td>1</td>\n",
       "      <td>0</td>\n",
       "    </tr>\n",
       "    <tr>\n",
       "      <th>...</th>\n",
       "      <td>...</td>\n",
       "      <td>...</td>\n",
       "      <td>...</td>\n",
       "      <td>...</td>\n",
       "      <td>...</td>\n",
       "      <td>...</td>\n",
       "      <td>...</td>\n",
       "      <td>...</td>\n",
       "      <td>...</td>\n",
       "      <td>...</td>\n",
       "      <td>...</td>\n",
       "      <td>...</td>\n",
       "      <td>...</td>\n",
       "      <td>...</td>\n",
       "      <td>...</td>\n",
       "      <td>...</td>\n",
       "      <td>...</td>\n",
       "      <td>...</td>\n",
       "      <td>...</td>\n",
       "    </tr>\n",
       "    <tr>\n",
       "      <th>49991</th>\n",
       "      <td>13936_61</td>\n",
       "      <td>4</td>\n",
       "      <td>U_1</td>\n",
       "      <td>134.0</td>\n",
       "      <td>61.0</td>\n",
       "      <td>2</td>\n",
       "      <td>1</td>\n",
       "      <td>13936.0</td>\n",
       "      <td>0</td>\n",
       "      <td>4</td>\n",
       "      <td>4.0</td>\n",
       "      <td>26.000000</td>\n",
       "      <td>3.0</td>\n",
       "      <td>2</td>\n",
       "      <td>1.0</td>\n",
       "      <td>0</td>\n",
       "      <td>1</td>\n",
       "      <td>0</td>\n",
       "      <td>0</td>\n",
       "    </tr>\n",
       "    <tr>\n",
       "      <th>49992</th>\n",
       "      <td>12375_173</td>\n",
       "      <td>2</td>\n",
       "      <td>Z_2</td>\n",
       "      <td>120.0</td>\n",
       "      <td>173.0</td>\n",
       "      <td>2</td>\n",
       "      <td>1</td>\n",
       "      <td>12375.0</td>\n",
       "      <td>1</td>\n",
       "      <td>2</td>\n",
       "      <td>4.0</td>\n",
       "      <td>26.000000</td>\n",
       "      <td>1.0</td>\n",
       "      <td>2</td>\n",
       "      <td>1.0</td>\n",
       "      <td>1</td>\n",
       "      <td>1</td>\n",
       "      <td>0</td>\n",
       "      <td>0</td>\n",
       "    </tr>\n",
       "    <tr>\n",
       "      <th>49993</th>\n",
       "      <td>4379_115</td>\n",
       "      <td>0</td>\n",
       "      <td>Y_4</td>\n",
       "      <td>121.0</td>\n",
       "      <td>115.0</td>\n",
       "      <td>1</td>\n",
       "      <td>3</td>\n",
       "      <td>4379.0</td>\n",
       "      <td>1</td>\n",
       "      <td>3</td>\n",
       "      <td>2.0</td>\n",
       "      <td>45.131525</td>\n",
       "      <td>5.0</td>\n",
       "      <td>2</td>\n",
       "      <td>4.0</td>\n",
       "      <td>1</td>\n",
       "      <td>0</td>\n",
       "      <td>1</td>\n",
       "      <td>0</td>\n",
       "    </tr>\n",
       "    <tr>\n",
       "      <th>49995</th>\n",
       "      <td>18109_42</td>\n",
       "      <td>1</td>\n",
       "      <td>T_2</td>\n",
       "      <td>117.0</td>\n",
       "      <td>42.0</td>\n",
       "      <td>2</td>\n",
       "      <td>1</td>\n",
       "      <td>18109.0</td>\n",
       "      <td>1</td>\n",
       "      <td>3</td>\n",
       "      <td>2.0</td>\n",
       "      <td>41.000000</td>\n",
       "      <td>2.0</td>\n",
       "      <td>2</td>\n",
       "      <td>1.0</td>\n",
       "      <td>1</td>\n",
       "      <td>0</td>\n",
       "      <td>1</td>\n",
       "      <td>0</td>\n",
       "    </tr>\n",
       "    <tr>\n",
       "      <th>49996</th>\n",
       "      <td>6384_113</td>\n",
       "      <td>0</td>\n",
       "      <td>Y_4</td>\n",
       "      <td>121.0</td>\n",
       "      <td>113.0</td>\n",
       "      <td>1</td>\n",
       "      <td>2</td>\n",
       "      <td>6384.0</td>\n",
       "      <td>0</td>\n",
       "      <td>2</td>\n",
       "      <td>3.0</td>\n",
       "      <td>41.630460</td>\n",
       "      <td>2.0</td>\n",
       "      <td>2</td>\n",
       "      <td>5.0</td>\n",
       "      <td>1</td>\n",
       "      <td>0</td>\n",
       "      <td>1</td>\n",
       "      <td>0</td>\n",
       "    </tr>\n",
       "  </tbody>\n",
       "</table>\n",
       "<p>43319 rows × 19 columns</p>\n",
       "</div>"
      ],
      "text/plain": [
       "          id_num program_type program_id  program_duration  test_id test_type  \\\n",
       "0       9389_150            0        Y_1             136.0    150.0         1   \n",
       "1       16523_44            1        T_1             131.0     44.0         1   \n",
       "2      13987_178            2        Z_2             120.0    178.0         2   \n",
       "3       13158_32            1        T_2             117.0     32.0         1   \n",
       "4       10591_84            3        V_3             131.0     84.0         1   \n",
       "...          ...          ...        ...               ...      ...       ...   \n",
       "49991   13936_61            4        U_1             134.0     61.0         2   \n",
       "49992  12375_173            2        Z_2             120.0    173.0         2   \n",
       "49993   4379_115            0        Y_4             121.0    115.0         1   \n",
       "49995   18109_42            1        T_2             117.0     42.0         2   \n",
       "49996   6384_113            0        Y_4             121.0    113.0         1   \n",
       "\n",
       "      difficulty_level  trainee_id gender education  city_tier        age  \\\n",
       "0                    2      9389.0      0         2        3.0  24.000000   \n",
       "1                    1     16523.0      1         3        4.0  26.000000   \n",
       "2                    1     13987.0      0         2        1.0  40.000000   \n",
       "3                    1     13158.0      1         2        3.0  41.327538   \n",
       "4                    2     10591.0      1         3        1.0  42.000000   \n",
       "...                ...         ...    ...       ...        ...        ...   \n",
       "49991                1     13936.0      0         4        4.0  26.000000   \n",
       "49992                1     12375.0      1         2        4.0  26.000000   \n",
       "49993                3      4379.0      1         3        2.0  45.131525   \n",
       "49995                1     18109.0      1         3        2.0  41.000000   \n",
       "49996                2      6384.0      0         2        3.0  41.630460   \n",
       "\n",
       "       total_programs_enrolled is_handicapped  trainee_engagement_rating  \\\n",
       "0                          5.0              2                        1.0   \n",
       "1                          2.0              2                        3.0   \n",
       "2                          1.0              2                        2.0   \n",
       "3                          4.0              2                        1.0   \n",
       "4                          2.0              2                        4.0   \n",
       "...                        ...            ...                        ...   \n",
       "49991                      3.0              2                        1.0   \n",
       "49992                      1.0              2                        1.0   \n",
       "49993                      5.0              2                        4.0   \n",
       "49995                      2.0              2                        1.0   \n",
       "49996                      2.0              2                        5.0   \n",
       "\n",
       "       is_pass  discreat_age_youth  discreat_age_middle  discreat_age_elder  \n",
       "0            0                   1                    0                   0  \n",
       "1            1                   1                    0                   0  \n",
       "2            1                   0                    1                   0  \n",
       "3            1                   0                    1                   0  \n",
       "4            1                   0                    1                   0  \n",
       "...        ...                 ...                  ...                 ...  \n",
       "49991        0                   1                    0                   0  \n",
       "49992        1                   1                    0                   0  \n",
       "49993        1                   0                    1                   0  \n",
       "49995        1                   0                    1                   0  \n",
       "49996        1                   0                    1                   0  \n",
       "\n",
       "[43319 rows x 19 columns]"
      ]
     },
     "execution_count": 33,
     "metadata": {},
     "output_type": "execute_result"
    },
    {
     "name": "stdout",
     "output_type": "stream",
     "text": [
      "<class 'pandas.core.frame.DataFrame'>\n",
      "Int64Index: 43319 entries, 0 to 49996\n",
      "Data columns (total 17 columns):\n",
      " #   Column                     Non-Null Count  Dtype   \n",
      "---  ------                     --------------  -----   \n",
      " 0   id_num                     43319 non-null  object  \n",
      " 1   program_type               43319 non-null  object  \n",
      " 2   program_id                 42695 non-null  object  \n",
      " 3   program_duration           43319 non-null  float64 \n",
      " 4   test_id                    42709 non-null  float64 \n",
      " 5   test_type                  43319 non-null  object  \n",
      " 6   difficulty_level           43319 non-null  object  \n",
      " 7   trainee_id                 42670 non-null  float64 \n",
      " 8   gender                     43319 non-null  object  \n",
      " 9   education                  43319 non-null  object  \n",
      " 10  city_tier                  43319 non-null  float64 \n",
      " 11  age                        43319 non-null  float64 \n",
      " 12  total_programs_enrolled    43319 non-null  float64 \n",
      " 13  is_handicapped             43319 non-null  object  \n",
      " 14  trainee_engagement_rating  43319 non-null  float64 \n",
      " 15  is_pass                    43319 non-null  int64   \n",
      " 16  discreat_age               43319 non-null  category\n",
      "dtypes: category(1), float64(7), int64(1), object(8)\n",
      "memory usage: 5.7+ MB\n"
     ]
    }
   ],
   "source": [
    "# pd.cut(data.age,3)\n",
    "# data['discreat_age'] = pd.cut(data.age,3,labels=['youth','middle','elder'])\n",
    "# pd.get_dummies(data,columns=['discreat_age'])\n",
    "# data.info()\n",
    "# predictors = [\"program_type\",\"test_type\",\"difficulty_level\",\n",
    "#                \"education\",\"city_tier\",\"gender\",'age',\n",
    "#               \"trainee_engagement_rating\",\"program_duration\",\"is_handicapped\",\n",
    "#              \"discreat_age\"]"
   ]
  },
  {
   "cell_type": "markdown",
   "metadata": {},
   "source": [
    "# 建立模型"
   ]
  },
  {
   "cell_type": "markdown",
   "metadata": {},
   "source": [
    "# 线性回归"
   ]
  },
  {
   "cell_type": "code",
   "execution_count": 25,
   "metadata": {},
   "outputs": [
    {
     "data": {
      "text/plain": [
       "LinearRegression()"
      ]
     },
     "execution_count": 25,
     "metadata": {},
     "output_type": "execute_result"
    },
    {
     "data": {
      "text/plain": [
       "LinearRegression()"
      ]
     },
     "execution_count": 25,
     "metadata": {},
     "output_type": "execute_result"
    },
    {
     "data": {
      "text/plain": [
       "LinearRegression()"
      ]
     },
     "execution_count": 25,
     "metadata": {},
     "output_type": "execute_result"
    },
    {
     "data": {
      "text/plain": [
       "LinearRegression()"
      ]
     },
     "execution_count": 25,
     "metadata": {},
     "output_type": "execute_result"
    }
   ],
   "source": [
    "from sklearn.linear_model import LinearRegression\n",
    "from sklearn.model_selection import KFold\n",
    "\n",
    "kf = KFold(n_splits=4)\n",
    "lin_reg = LinearRegression()\n",
    "\n",
    "predict_data = []\n",
    "\n",
    "target = data['is_pass'].values\n",
    "\n",
    "for train_index, test_index in kf.split(data):\n",
    "    train_predictors = (data[predictors].iloc[train_index,:]) # 取出训练数据\n",
    "    train_target = data[\"is_pass\"].iloc[train_index] # 获取到数据集中交叉分类好的标签，即是否通过\n",
    "    lin_reg.fit(train_predictors, train_target) # 训练模型\n",
    "    test_predictions = lin_reg.predict(data[predictors].iloc[test_index,:]) # 检验模型误差\n",
    "    predict_data.append(test_predictions)"
   ]
  },
  {
   "cell_type": "code",
   "execution_count": 26,
   "metadata": {},
   "outputs": [
    {
     "data": {
      "text/plain": [
       "array([0.50547179, 0.71091832, 0.72470323, ..., 0.76148684, 0.72044778,\n",
       "       0.76360156])"
      ]
     },
     "execution_count": 26,
     "metadata": {},
     "output_type": "execute_result"
    },
    {
     "data": {
      "text/plain": [
       "array([1., 1., 1., ..., 1., 1., 1.])"
      ]
     },
     "execution_count": 26,
     "metadata": {},
     "output_type": "execute_result"
    },
    {
     "data": {
      "text/plain": [
       "0.703617350354348"
      ]
     },
     "execution_count": 26,
     "metadata": {},
     "output_type": "execute_result"
    }
   ],
   "source": [
    "predict_data = np.concatenate(predict_data, axis=0)\n",
    "\n",
    "predict_data\n",
    "predict_data[predict_data > 0.5] = 1\n",
    "predict_data[predict_data <= 0.5] = 0\n",
    "predict_data\n",
    "\n",
    "sum(predict_data==target)/len(target)"
   ]
  },
  {
   "cell_type": "markdown",
   "metadata": {},
   "source": [
    "# 逻辑回归"
   ]
  },
  {
   "cell_type": "code",
   "execution_count": 27,
   "metadata": {},
   "outputs": [
    {
     "data": {
      "text/plain": [
       "LogisticRegression()"
      ]
     },
     "execution_count": 27,
     "metadata": {},
     "output_type": "execute_result"
    },
    {
     "data": {
      "text/plain": [
       "0.7070569496064083"
      ]
     },
     "execution_count": 27,
     "metadata": {},
     "output_type": "execute_result"
    }
   ],
   "source": [
    "from sklearn.model_selection import train_test_split\n",
    "from sklearn.linear_model import LogisticRegression\n",
    "from sklearn.model_selection import KFold\n",
    "from sklearn import model_selection\n",
    "from sklearn import preprocessing\n",
    "\n",
    "\n",
    "scaler = preprocessing.StandardScaler().fit(data[predictors])\n",
    "X_scaled = scaler.transform(data[predictors])\n",
    "\n",
    "log_reg = LogisticRegression()\n",
    "log_reg.fit(X_scaled, data['is_pass'])\n",
    "\n",
    "result_log = log_reg.predict(X_scaled)\n",
    "\n",
    "score = model_selection.cross_val_score(log_reg, X_scaled, data['is_pass'], cv=3)\n",
    "\n",
    "sum(result_log == data['is_pass'])/len(data['is_pass'])"
   ]
  },
  {
   "cell_type": "markdown",
   "metadata": {},
   "source": [
    "# KNN"
   ]
  },
  {
   "cell_type": "code",
   "execution_count": 28,
   "metadata": {},
   "outputs": [],
   "source": [
    "# from sklearn.neighbors import KNeighborsClassifier\n",
    "\n",
    "# model_KNN = KNeighborsClassifier()\n",
    "# model_KNN.fit(data[predictors].values, data['is_pass'])\n",
    "\n",
    "# result = model_KNN.predict(data[predictors].values)\n",
    "# result\n",
    "\n",
    "# sum(result == target)/len(target)"
   ]
  },
  {
   "cell_type": "markdown",
   "metadata": {},
   "source": [
    "# 随机森林"
   ]
  },
  {
   "cell_type": "code",
   "execution_count": 29,
   "metadata": {},
   "outputs": [
    {
     "data": {
      "text/plain": [
       "RandomForestClassifier(min_samples_leaf=2, min_samples_split=4, n_estimators=50,\n",
       "                       random_state=1)"
      ]
     },
     "execution_count": 29,
     "metadata": {},
     "output_type": "execute_result"
    },
    {
     "data": {
      "text/plain": [
       "array([0, 1, 1, ..., 1, 1, 1], dtype=int64)"
      ]
     },
     "execution_count": 29,
     "metadata": {},
     "output_type": "execute_result"
    },
    {
     "name": "stderr",
     "output_type": "stream",
     "text": [
      "D:\\Anaconda\\lib\\site-packages\\sklearn\\model_selection\\_split.py:293: FutureWarning: Setting a random_state has no effect since shuffle is False. This will raise an error in 0.24. You should leave random_state to its default (None), or set shuffle=True.\n",
      "  warnings.warn(\n"
     ]
    },
    {
     "name": "stdout",
     "output_type": "stream",
     "text": [
      "准确率为： 0.7129665590339389\n"
     ]
    }
   ],
   "source": [
    "from sklearn import model_selection\n",
    "from sklearn.ensemble import RandomForestClassifier\n",
    "\n",
    "clf = RandomForestClassifier(random_state=1, n_estimators=50, min_samples_split=4, min_samples_leaf=2)\n",
    "clf.fit(data[predictors], data[\"is_pass\"])\n",
    "clf.predict(data[predictors])\n",
    "\n",
    "kf = model_selection.KFold(n_splits=3, random_state=1) \n",
    "\n",
    "score = model_selection.cross_val_score(clf, data[predictors], data[\"is_pass\"], cv=kf.split(data))\n",
    "\n",
    "print(\"准确率为：\", score.mean())"
   ]
  },
  {
   "cell_type": "markdown",
   "metadata": {},
   "source": [
    "# 特征选择"
   ]
  },
  {
   "cell_type": "markdown",
   "metadata": {},
   "source": [
    "**CTRLC+V继元师兄的，看不懂把它引了**"
   ]
  },
  {
   "cell_type": "code",
   "execution_count": 38,
   "metadata": {},
   "outputs": [
    {
     "data": {
      "text/plain": [
       "SelectKBest(k=4)"
      ]
     },
     "execution_count": 38,
     "metadata": {},
     "output_type": "execute_result"
    },
    {
     "name": "stderr",
     "output_type": "stream",
     "text": [
      "<ipython-input-38-83f8cc95b14a>:8: RuntimeWarning: divide by zero encountered in log10\n",
      "  scores = -np.log10(selector.pvalues_)\n"
     ]
    },
    {
     "data": {
      "text/plain": [
       "<BarContainer object of 10 artists>"
      ]
     },
     "execution_count": 38,
     "metadata": {},
     "output_type": "execute_result"
    },
    {
     "data": {
      "text/plain": [
       "([<matplotlib.axis.XTick at 0x12cc050ff40>,\n",
       "  <matplotlib.axis.XTick at 0x12cc050ff10>,\n",
       "  <matplotlib.axis.XTick at 0x12cc0504b20>,\n",
       "  <matplotlib.axis.XTick at 0x12cc0549460>,\n",
       "  <matplotlib.axis.XTick at 0x12cc0549970>,\n",
       "  <matplotlib.axis.XTick at 0x12cc0549e80>,\n",
       "  <matplotlib.axis.XTick at 0x12cc05496a0>,\n",
       "  <matplotlib.axis.XTick at 0x12cc05593a0>,\n",
       "  <matplotlib.axis.XTick at 0x12cc05598b0>,\n",
       "  <matplotlib.axis.XTick at 0x12cc0559dc0>],\n",
       " [Text(0, 0, 'program_type'),\n",
       "  Text(1, 0, 'test_type'),\n",
       "  Text(2, 0, 'difficulty_level'),\n",
       "  Text(3, 0, 'education'),\n",
       "  Text(4, 0, 'city_tier'),\n",
       "  Text(5, 0, 'age'),\n",
       "  Text(6, 0, 'gender'),\n",
       "  Text(7, 0, 'trainee_engagement_rating'),\n",
       "  Text(8, 0, 'program_duration'),\n",
       "  Text(9, 0, 'is_handicapped')])"
      ]
     },
     "execution_count": 38,
     "metadata": {},
     "output_type": "execute_result"
    },
    {
     "data": {
      "image/png": "[encoded data removed]",
      "text/plain": [
       "<Figure size 432x288 with 1 Axes>"
      ]
     },
     "metadata": {
      "needs_background": "light"
     },
     "output_type": "display_data"
    },
    {
     "name": "stdout",
     "output_type": "stream",
     "text": [
      "随机森林模型的准确率：0.716983265863837\n"
     ]
    }
   ],
   "source": [
    "# from sklearn.feature_selection import SelectKBest, f_classif # 特征选择库\n",
    "# import matplotlib.pyplot as plt # 画出直方图，分析特征的权重\n",
    "# from sklearn.ensemble import RandomForestClassifier\n",
    "\n",
    "# selector = SelectKBest(f_classif, k=4) # f_classif：基于方差分析的检验统计f值，根据k个最高分数选择功能\n",
    "# selector.fit(data[predictors], data[\"is_pass\"])\n",
    "\n",
    "# scores = -np.log10(selector.pvalues_)\n",
    "\n",
    "# plt.bar(range(len(predictors)), scores)\n",
    "# plt.xticks(range(len(predictors)), predictors, rotation='vertical')\n",
    "# plt.show()\n",
    "\n",
    "# clf = RandomForestClassifier( n_estimators=50, min_samples_split=8, min_samples_leaf=2)\n",
    "# kf = model_selection.KFold(n_splits=3)\n",
    "# scores = model_selection.cross_val_score(clf, data[predictors], data[\"is_pass\"], cv=kf)\n",
    "# print(\"随机森林模型的准确率：\" + str(scores.mean()))"
   ]
  },
  {
   "cell_type": "markdown",
   "metadata": {},
   "source": [
    "# 递归特征消除 "
   ]
  },
  {
   "cell_type": "markdown",
   "metadata": {},
   "source": [
    "**递归特征消除，按照最佳属性排下来，简单画了个图**"
   ]
  },
  {
   "cell_type": "code",
   "execution_count": 30,
   "metadata": {},
   "outputs": [
    {
     "data": {
      "text/plain": [
       "RFE(estimator=RandomForestClassifier(), n_features_to_select=1)"
      ]
     },
     "execution_count": 30,
     "metadata": {},
     "output_type": "execute_result"
    },
    {
     "name": "stdout",
     "output_type": "stream",
     "text": [
      "[False False False False False  True False False False False]\n",
      "[ 4  8  6  7  5  1  9  3  2 10]\n"
     ]
    },
    {
     "data": {
      "text/plain": [
       "<BarContainer object of 10 artists>"
      ]
     },
     "execution_count": 30,
     "metadata": {},
     "output_type": "execute_result"
    },
    {
     "data": {
      "text/plain": [
       "([<matplotlib.axis.XTick at 0x141750b4280>,\n",
       "  <matplotlib.axis.XTick at 0x141750b4250>,\n",
       "  <matplotlib.axis.XTick at 0x141750ccd60>,\n",
       "  <matplotlib.axis.XTick at 0x141719d24c0>,\n",
       "  <matplotlib.axis.XTick at 0x141719d21f0>,\n",
       "  <matplotlib.axis.XTick at 0x141719d2d30>,\n",
       "  <matplotlib.axis.XTick at 0x1417513c280>,\n",
       "  <matplotlib.axis.XTick at 0x1417513c790>,\n",
       "  <matplotlib.axis.XTick at 0x1417513cca0>,\n",
       "  <matplotlib.axis.XTick at 0x141751361f0>],\n",
       " [Text(0, 0, 'program_type'),\n",
       "  Text(1, 0, 'test_type'),\n",
       "  Text(2, 0, 'difficulty_level'),\n",
       "  Text(3, 0, 'education'),\n",
       "  Text(4, 0, 'city_tier'),\n",
       "  Text(5, 0, 'age'),\n",
       "  Text(6, 0, 'gender'),\n",
       "  Text(7, 0, 'trainee_engagement_rating'),\n",
       "  Text(8, 0, 'program_duration'),\n",
       "  Text(9, 0, 'is_handicapped')])"
      ]
     },
     "execution_count": 30,
     "metadata": {},
     "output_type": "execute_result"
    },
    {
     "data": {
      "image/png": "[encoded data removed]",
      "text/plain": [
       "<Figure size 432x288 with 1 Axes>"
      ]
     },
     "metadata": {
      "needs_background": "light"
     },
     "output_type": "display_data"
    }
   ],
   "source": [
    "from sklearn.feature_selection import RFE\n",
    "from sklearn.ensemble import RandomForestClassifier\n",
    "\n",
    "rfe = RFE(estimator=RandomForestClassifier(), n_features_to_select=1)\n",
    "rfe.fit(data[predictors], data['is_pass'])\n",
    "\n",
    "print(rfe.support_)\n",
    "print(rfe.ranking_)\n",
    "\n",
    "plt.bar(range(len(predictors)), 11-rfe.ranking_)\n",
    "plt.xticks(range(len(predictors)), predictors, rotation='vertical')\n",
    "plt.show()"
   ]
  },
  {
   "cell_type": "markdown",
   "metadata": {},
   "source": [
    "**以trainee_engagement_rating为y_train，画图**"
   ]
  },
  {
   "cell_type": "code",
   "execution_count": 31,
   "metadata": {},
   "outputs": [
    {
     "data": {
      "text/plain": [
       "RFE(estimator=RandomForestClassifier(), n_features_to_select=1)"
      ]
     },
     "execution_count": 31,
     "metadata": {},
     "output_type": "execute_result"
    },
    {
     "name": "stdout",
     "output_type": "stream",
     "text": [
      "[False False False False False  True False False False]\n",
      "[2 9 6 5 4 1 7 3 8]\n"
     ]
    },
    {
     "data": {
      "text/plain": [
       "<BarContainer object of 9 artists>"
      ]
     },
     "execution_count": 31,
     "metadata": {},
     "output_type": "execute_result"
    },
    {
     "data": {
      "text/plain": [
       "([<matplotlib.axis.XTick at 0x14175148d30>,\n",
       "  <matplotlib.axis.XTick at 0x14175148dc0>,\n",
       "  <matplotlib.axis.XTick at 0x14175120640>,\n",
       "  <matplotlib.axis.XTick at 0x141018febb0>,\n",
       "  <matplotlib.axis.XTick at 0x14101922100>,\n",
       "  <matplotlib.axis.XTick at 0x141018fe880>,\n",
       "  <matplotlib.axis.XTick at 0x141019227c0>,\n",
       "  <matplotlib.axis.XTick at 0x14101922cd0>,\n",
       "  <matplotlib.axis.XTick at 0x1410192a220>],\n",
       " [Text(0, 0, 'program_type'),\n",
       "  Text(1, 0, 'test_type'),\n",
       "  Text(2, 0, 'difficulty_level'),\n",
       "  Text(3, 0, 'education'),\n",
       "  Text(4, 0, 'city_tier'),\n",
       "  Text(5, 0, 'age'),\n",
       "  Text(6, 0, 'gender'),\n",
       "  Text(7, 0, 'program_duration'),\n",
       "  Text(8, 0, 'is_handicapped')])"
      ]
     },
     "execution_count": 31,
     "metadata": {},
     "output_type": "execute_result"
    },
    {
     "data": {
      "image/png": "[encoded data removed]",
      "text/plain": [
       "<Figure size 432x288 with 1 Axes>"
      ]
     },
     "metadata": {
      "needs_background": "light"
     },
     "output_type": "display_data"
    }
   ],
   "source": [
    "predict = [\"program_type\",\"test_type\",\"difficulty_level\",\n",
    "               \"education\",\"city_tier\",\"age\",\"gender\",\n",
    "              \"program_duration\",\"is_handicapped\"]\n",
    "\n",
    "rfe = RFE(estimator=RandomForestClassifier(), n_features_to_select=1)\n",
    "rfe.fit(data[predict], data[\"trainee_engagement_rating\"])\n",
    "\n",
    "print(rfe.support_)\n",
    "print(rfe.ranking_)\n",
    "\n",
    "plt.bar(range(len(predict)), 9-rfe.ranking_)\n",
    "plt.xticks(range(len(predict)), predict, rotation='vertical')\n",
    "plt.show()"
   ]
  },
  {
   "cell_type": "markdown",
   "metadata": {},
   "source": [
    "# 预测数据"
   ]
  },
  {
   "cell_type": "code",
   "execution_count": 32,
   "metadata": {},
   "outputs": [
    {
     "data": {
      "text/html": [
       "<div>\n",
       "<style scoped>\n",
       "    .dataframe tbody tr th:only-of-type {\n",
       "        vertical-align: middle;\n",
       "    }\n",
       "\n",
       "    .dataframe tbody tr th {\n",
       "        vertical-align: top;\n",
       "    }\n",
       "\n",
       "    .dataframe thead th {\n",
       "        text-align: right;\n",
       "    }\n",
       "</style>\n",
       "<table border=\"1\" class=\"dataframe\">\n",
       "  <thead>\n",
       "    <tr style=\"text-align: right;\">\n",
       "      <th></th>\n",
       "      <th>id_num</th>\n",
       "      <th>program_type</th>\n",
       "      <th>program_id</th>\n",
       "      <th>program_duration</th>\n",
       "      <th>test_id</th>\n",
       "      <th>test_type</th>\n",
       "      <th>difficulty_level</th>\n",
       "      <th>trainee_id</th>\n",
       "      <th>gender</th>\n",
       "      <th>education</th>\n",
       "      <th>city_tier</th>\n",
       "      <th>age</th>\n",
       "      <th>total_programs_enrolled</th>\n",
       "      <th>is_handicapped</th>\n",
       "      <th>trainee_engagement_rating</th>\n",
       "      <th>is_pass</th>\n",
       "    </tr>\n",
       "  </thead>\n",
       "  <tbody>\n",
       "    <tr>\n",
       "      <th>0</th>\n",
       "      <td>4753_31</td>\n",
       "      <td>T</td>\n",
       "      <td>T_3</td>\n",
       "      <td>134</td>\n",
       "      <td>31</td>\n",
       "      <td>online</td>\n",
       "      <td>easy</td>\n",
       "      <td>4753</td>\n",
       "      <td>F</td>\n",
       "      <td>Bachelors</td>\n",
       "      <td>1</td>\n",
       "      <td>31.0</td>\n",
       "      <td>4</td>\n",
       "      <td>N</td>\n",
       "      <td>2.0</td>\n",
       "      <td>NaN</td>\n",
       "    </tr>\n",
       "    <tr>\n",
       "      <th>1</th>\n",
       "      <td>10816_148</td>\n",
       "      <td>Y</td>\n",
       "      <td>Y_2</td>\n",
       "      <td>120</td>\n",
       "      <td>148</td>\n",
       "      <td>online</td>\n",
       "      <td>easy</td>\n",
       "      <td>10816</td>\n",
       "      <td>M</td>\n",
       "      <td>Matriculation</td>\n",
       "      <td>3</td>\n",
       "      <td>NaN</td>\n",
       "      <td>2</td>\n",
       "      <td>N</td>\n",
       "      <td>4.0</td>\n",
       "      <td>NaN</td>\n",
       "    </tr>\n",
       "    <tr>\n",
       "      <th>2</th>\n",
       "      <td>7498_114</td>\n",
       "      <td>Y</td>\n",
       "      <td>Y_4</td>\n",
       "      <td>121</td>\n",
       "      <td>114</td>\n",
       "      <td>offline</td>\n",
       "      <td>intermediate</td>\n",
       "      <td>7498</td>\n",
       "      <td>M</td>\n",
       "      <td>High School Diploma</td>\n",
       "      <td>1</td>\n",
       "      <td>NaN</td>\n",
       "      <td>3</td>\n",
       "      <td>N</td>\n",
       "      <td>1.0</td>\n",
       "      <td>NaN</td>\n",
       "    </tr>\n",
       "    <tr>\n",
       "      <th>3</th>\n",
       "      <td>14139_175</td>\n",
       "      <td>Z</td>\n",
       "      <td>Z_2</td>\n",
       "      <td>120</td>\n",
       "      <td>175</td>\n",
       "      <td>online</td>\n",
       "      <td>easy</td>\n",
       "      <td>14139</td>\n",
       "      <td>F</td>\n",
       "      <td>High School Diploma</td>\n",
       "      <td>1</td>\n",
       "      <td>44.0</td>\n",
       "      <td>1</td>\n",
       "      <td>Y</td>\n",
       "      <td>1.0</td>\n",
       "      <td>NaN</td>\n",
       "    </tr>\n",
       "    <tr>\n",
       "      <th>4</th>\n",
       "      <td>11305_25</td>\n",
       "      <td>T</td>\n",
       "      <td>T_3</td>\n",
       "      <td>134</td>\n",
       "      <td>25</td>\n",
       "      <td>offline</td>\n",
       "      <td>intermediate</td>\n",
       "      <td>11305</td>\n",
       "      <td>M</td>\n",
       "      <td>High School Diploma</td>\n",
       "      <td>2</td>\n",
       "      <td>49.0</td>\n",
       "      <td>2</td>\n",
       "      <td>N</td>\n",
       "      <td>2.0</td>\n",
       "      <td>NaN</td>\n",
       "    </tr>\n",
       "    <tr>\n",
       "      <th>5</th>\n",
       "      <td>19047_14</td>\n",
       "      <td>T</td>\n",
       "      <td>T_4</td>\n",
       "      <td>120</td>\n",
       "      <td>14</td>\n",
       "      <td>offline</td>\n",
       "      <td>intermediate</td>\n",
       "      <td>19047</td>\n",
       "      <td>F</td>\n",
       "      <td>Bachelors</td>\n",
       "      <td>4</td>\n",
       "      <td>44.0</td>\n",
       "      <td>4</td>\n",
       "      <td>N</td>\n",
       "      <td>1.0</td>\n",
       "      <td>NaN</td>\n",
       "    </tr>\n",
       "    <tr>\n",
       "      <th>6</th>\n",
       "      <td>19335_164</td>\n",
       "      <td>Z</td>\n",
       "      <td>Z_3</td>\n",
       "      <td>130</td>\n",
       "      <td>164</td>\n",
       "      <td>online</td>\n",
       "      <td>easy</td>\n",
       "      <td>19335</td>\n",
       "      <td>F</td>\n",
       "      <td>Matriculation</td>\n",
       "      <td>4</td>\n",
       "      <td>26.0</td>\n",
       "      <td>1</td>\n",
       "      <td>N</td>\n",
       "      <td>2.0</td>\n",
       "      <td>NaN</td>\n",
       "    </tr>\n",
       "    <tr>\n",
       "      <th>7</th>\n",
       "      <td>13935_38</td>\n",
       "      <td>T</td>\n",
       "      <td>T_2</td>\n",
       "      <td>117</td>\n",
       "      <td>38</td>\n",
       "      <td>online</td>\n",
       "      <td>easy</td>\n",
       "      <td>13935</td>\n",
       "      <td>F</td>\n",
       "      <td>Matriculation</td>\n",
       "      <td>3</td>\n",
       "      <td>NaN</td>\n",
       "      <td>2</td>\n",
       "      <td>N</td>\n",
       "      <td>1.0</td>\n",
       "      <td>NaN</td>\n",
       "    </tr>\n",
       "    <tr>\n",
       "      <th>8</th>\n",
       "      <td>6412_29</td>\n",
       "      <td>T</td>\n",
       "      <td>T_3</td>\n",
       "      <td>134</td>\n",
       "      <td>29</td>\n",
       "      <td>online</td>\n",
       "      <td>easy</td>\n",
       "      <td>6412</td>\n",
       "      <td>F</td>\n",
       "      <td>High School Diploma</td>\n",
       "      <td>4</td>\n",
       "      <td>28.0</td>\n",
       "      <td>2</td>\n",
       "      <td>N</td>\n",
       "      <td>1.0</td>\n",
       "      <td>NaN</td>\n",
       "    </tr>\n",
       "    <tr>\n",
       "      <th>9</th>\n",
       "      <td>5615_20</td>\n",
       "      <td>T</td>\n",
       "      <td>T_4</td>\n",
       "      <td>120</td>\n",
       "      <td>20</td>\n",
       "      <td>online</td>\n",
       "      <td>easy</td>\n",
       "      <td>5615</td>\n",
       "      <td>F</td>\n",
       "      <td>Matriculation</td>\n",
       "      <td>4</td>\n",
       "      <td>30.0</td>\n",
       "      <td>4</td>\n",
       "      <td>N</td>\n",
       "      <td>3.0</td>\n",
       "      <td>NaN</td>\n",
       "    </tr>\n",
       "  </tbody>\n",
       "</table>\n",
       "</div>"
      ],
      "text/plain": [
       "      id_num program_type program_id  program_duration  test_id test_type  \\\n",
       "0    4753_31            T        T_3               134       31    online   \n",
       "1  10816_148            Y        Y_2               120      148    online   \n",
       "2   7498_114            Y        Y_4               121      114   offline   \n",
       "3  14139_175            Z        Z_2               120      175    online   \n",
       "4   11305_25            T        T_3               134       25   offline   \n",
       "5   19047_14            T        T_4               120       14   offline   \n",
       "6  19335_164            Z        Z_3               130      164    online   \n",
       "7   13935_38            T        T_2               117       38    online   \n",
       "8    6412_29            T        T_3               134       29    online   \n",
       "9    5615_20            T        T_4               120       20    online   \n",
       "\n",
       "  difficulty_level  trainee_id gender            education  city_tier   age  \\\n",
       "0             easy        4753      F            Bachelors          1  31.0   \n",
       "1             easy       10816      M        Matriculation          3   NaN   \n",
       "2     intermediate        7498      M  High School Diploma          1   NaN   \n",
       "3             easy       14139      F  High School Diploma          1  44.0   \n",
       "4     intermediate       11305      M  High School Diploma          2  49.0   \n",
       "5     intermediate       19047      F            Bachelors          4  44.0   \n",
       "6             easy       19335      F        Matriculation          4  26.0   \n",
       "7             easy       13935      F        Matriculation          3   NaN   \n",
       "8             easy        6412      F  High School Diploma          4  28.0   \n",
       "9             easy        5615      F        Matriculation          4  30.0   \n",
       "\n",
       "   total_programs_enrolled is_handicapped  trainee_engagement_rating  is_pass  \n",
       "0                        4              N                        2.0      NaN  \n",
       "1                        2              N                        4.0      NaN  \n",
       "2                        3              N                        1.0      NaN  \n",
       "3                        1              Y                        1.0      NaN  \n",
       "4                        2              N                        2.0      NaN  \n",
       "5                        4              N                        1.0      NaN  \n",
       "6                        1              N                        2.0      NaN  \n",
       "7                        2              N                        1.0      NaN  \n",
       "8                        2              N                        1.0      NaN  \n",
       "9                        4              N                        3.0      NaN  "
      ]
     },
     "execution_count": 32,
     "metadata": {},
     "output_type": "execute_result"
    }
   ],
   "source": [
    "test = pd.read_csv(r'C:\\Users\\姮娥\\Desktop\\get prepared\\QG\\中期考核\\data\\test\\test2.csv')\n",
    "test.head(10)"
   ]
  },
  {
   "cell_type": "markdown",
   "metadata": {},
   "source": [
    "**查看一下有无缺失，当初这里漏填trainee_engagement_rating，卡了很久**"
   ]
  },
  {
   "cell_type": "code",
   "execution_count": 33,
   "metadata": {},
   "outputs": [
    {
     "data": {
      "text/plain": [
       "<AxesSubplot:>"
      ]
     },
     "execution_count": 33,
     "metadata": {},
     "output_type": "execute_result"
    },
    {
     "data": {
      "image/png": "[encoded data removed]",
      "text/plain": [
       "<Figure size 1152x576 with 2 Axes>"
      ]
     },
     "metadata": {
      "needs_background": "light"
     },
     "output_type": "display_data"
    }
   ],
   "source": [
    "msno.matrix(test, figsize=(16, 8))\n",
    "test['trainee_engagement_rating'] = test['trainee_engagement_rating'].fillna(1.0)"
   ]
  },
  {
   "cell_type": "markdown",
   "metadata": {},
   "source": [
    "**独热编码**"
   ]
  },
  {
   "cell_type": "code",
   "execution_count": 34,
   "metadata": {
    "scrolled": true
   },
   "outputs": [
    {
     "name": "stdout",
     "output_type": "stream",
     "text": [
      "['F' 'M']\n",
      "[1 0]\n"
     ]
    }
   ],
   "source": [
    "print(test['gender'].unique())\n",
    "test.loc[test['gender'] == 'M', 'gender'] = 0\n",
    "test.loc[test['gender'] == 'F', 'gender'] = 1\n",
    "print(test['gender'].unique())"
   ]
  },
  {
   "cell_type": "code",
   "execution_count": 35,
   "metadata": {},
   "outputs": [
    {
     "name": "stdout",
     "output_type": "stream",
     "text": [
      "['T' 'Y' 'Z' 'V' 'X' 'U' 'S']\n",
      "[1 0 2 3 5 4 6]\n"
     ]
    }
   ],
   "source": [
    "print(test['program_type'].unique())\n",
    "test.loc[test['program_type'] == 'Y', 'program_type'] = 0\n",
    "test.loc[test['program_type'] == 'T', 'program_type'] = 1\n",
    "test.loc[test['program_type'] == 'Z', 'program_type'] = 2\n",
    "test.loc[test['program_type'] == 'V', 'program_type'] = 3\n",
    "test.loc[test['program_type'] == 'U', 'program_type'] = 4\n",
    "test.loc[test['program_type'] == 'X', 'program_type'] = 5\n",
    "test.loc[test['program_type'] == 'S', 'program_type'] = 6 \n",
    "print(test['program_type'].unique())"
   ]
  },
  {
   "cell_type": "code",
   "execution_count": 36,
   "metadata": {},
   "outputs": [
    {
     "name": "stdout",
     "output_type": "stream",
     "text": [
      "['online' 'offline']\n",
      "[2 1]\n"
     ]
    }
   ],
   "source": [
    "print(test['test_type'].unique())\n",
    "test.loc[test['test_type'] == 'offline', 'test_type'] = 1\n",
    "test.loc[test['test_type'] == 'online', 'test_type'] = 2\n",
    "print(test['test_type'].unique())"
   ]
  },
  {
   "cell_type": "code",
   "execution_count": 37,
   "metadata": {},
   "outputs": [
    {
     "name": "stdout",
     "output_type": "stream",
     "text": [
      "['easy' 'intermediate' 'hard' 'vary hard']\n",
      "[1 2 3 4]\n"
     ]
    }
   ],
   "source": [
    "print(test['difficulty_level'].unique())\n",
    "test.loc[test['difficulty_level'] == 'easy', 'difficulty_level'] = 1\n",
    "test.loc[test['difficulty_level'] == 'intermediate', 'difficulty_level'] = 2\n",
    "test.loc[test['difficulty_level'] == 'hard', 'difficulty_level'] = 3\n",
    "test.loc[test['difficulty_level'] == 'vary hard', 'difficulty_level'] = 4\n",
    "print(test['difficulty_level'].unique())"
   ]
  },
  {
   "cell_type": "code",
   "execution_count": 38,
   "metadata": {},
   "outputs": [
    {
     "name": "stdout",
     "output_type": "stream",
     "text": [
      "['Bachelors' 'Matriculation' 'High School Diploma' 'No Qualification'\n",
      " 'Masters']\n",
      "[4 2 3 1 5]\n"
     ]
    }
   ],
   "source": [
    "print(test['education'].unique())\n",
    "test.loc[test['education'] == 'No Qualification', 'education'] = 1\n",
    "test.loc[test['education'] == 'Matriculation', 'education'] = 2\n",
    "test.loc[test['education'] == 'High School Diploma', 'education'] = 3\n",
    "test.loc[test['education'] == 'Bachelors', 'education'] = 4\n",
    "test.loc[test['education'] == 'Masters', 'education'] = 5\n",
    "print(test['education'].unique())"
   ]
  },
  {
   "cell_type": "code",
   "execution_count": 39,
   "metadata": {},
   "outputs": [
    {
     "name": "stdout",
     "output_type": "stream",
     "text": [
      "['N' 'Y']\n",
      "[2 1]\n"
     ]
    }
   ],
   "source": [
    "print(test['is_handicapped'].unique())\n",
    "test.loc[test['is_handicapped'] == 'N', 'is_handicapped'] = 2\n",
    "test.loc[test['is_handicapped'] == 'Y', 'is_handicapped'] = 1\n",
    "print(test['is_handicapped'].unique())"
   ]
  },
  {
   "cell_type": "code",
   "execution_count": 40,
   "metadata": {},
   "outputs": [
    {
     "data": {
      "text/plain": [
       "array([41.30781951, 40.56937414, 42.04645166, ..., 43.991     ,\n",
       "       42.1609318 , 42.1609318 ])"
      ]
     },
     "execution_count": 40,
     "metadata": {},
     "output_type": "execute_result"
    }
   ],
   "source": [
    "#原本用的以中位数填充\n",
    "# test['age'] = test['age'].fillna(test['age'].mean())\n",
    "# test.describe()\n",
    "# test['age'].isnull()\n",
    "\n",
    "regr.predict(test[train_age][test.age.isnull()].values)\n",
    "fillage_ = regr.predict(test[train_age][test.age.isnull()].values)\n",
    "\n",
    "#原本尝试的线性回归预测填充\n",
    "# fillage_ = lin_reg_age.predict(test[train_age][test.age.isnull()].values)"
   ]
  },
  {
   "cell_type": "code",
   "execution_count": 41,
   "metadata": {},
   "outputs": [
    {
     "data": {
      "text/plain": [
       "<AxesSubplot:>"
      ]
     },
     "execution_count": 41,
     "metadata": {},
     "output_type": "execute_result"
    },
    {
     "data": {
      "image/png": "[encoded data removed]",
      "text/plain": [
       "<Figure size 1152x576 with 2 Axes>"
      ]
     },
     "metadata": {
      "needs_background": "light"
     },
     "output_type": "display_data"
    }
   ],
   "source": [
    "test.loc[(test.age.isnull()), 'age'] = fillage_\n",
    "msno.matrix(test, figsize=(16, 8))"
   ]
  },
  {
   "cell_type": "code",
   "execution_count": 42,
   "metadata": {},
   "outputs": [
    {
     "data": {
      "text/plain": [
       "0        (16.958, 31.0]\n",
       "1          (31.0, 45.0]\n",
       "2          (31.0, 45.0]\n",
       "3          (31.0, 45.0]\n",
       "4          (45.0, 59.0]\n",
       "              ...      \n",
       "11460      (31.0, 45.0]\n",
       "11461      (45.0, 59.0]\n",
       "11462    (16.958, 31.0]\n",
       "11463      (31.0, 45.0]\n",
       "11464      (31.0, 45.0]\n",
       "Name: age, Length: 11465, dtype: category\n",
       "Categories (3, interval[float64]): [(16.958, 31.0] < (31.0, 45.0] < (45.0, 59.0]]"
      ]
     },
     "execution_count": 42,
     "metadata": {},
     "output_type": "execute_result"
    },
    {
     "data": {
      "text/html": [
       "<div>\n",
       "<style scoped>\n",
       "    .dataframe tbody tr th:only-of-type {\n",
       "        vertical-align: middle;\n",
       "    }\n",
       "\n",
       "    .dataframe tbody tr th {\n",
       "        vertical-align: top;\n",
       "    }\n",
       "\n",
       "    .dataframe thead th {\n",
       "        text-align: right;\n",
       "    }\n",
       "</style>\n",
       "<table border=\"1\" class=\"dataframe\">\n",
       "  <thead>\n",
       "    <tr style=\"text-align: right;\">\n",
       "      <th></th>\n",
       "      <th>id_num</th>\n",
       "      <th>program_type</th>\n",
       "      <th>program_id</th>\n",
       "      <th>program_duration</th>\n",
       "      <th>test_id</th>\n",
       "      <th>test_type</th>\n",
       "      <th>difficulty_level</th>\n",
       "      <th>trainee_id</th>\n",
       "      <th>gender</th>\n",
       "      <th>education</th>\n",
       "      <th>city_tier</th>\n",
       "      <th>age</th>\n",
       "      <th>total_programs_enrolled</th>\n",
       "      <th>is_handicapped</th>\n",
       "      <th>trainee_engagement_rating</th>\n",
       "      <th>is_pass</th>\n",
       "      <th>discreat_age_youth</th>\n",
       "      <th>discreat_age_middle</th>\n",
       "      <th>discreat_age_elder</th>\n",
       "    </tr>\n",
       "  </thead>\n",
       "  <tbody>\n",
       "    <tr>\n",
       "      <th>0</th>\n",
       "      <td>4753_31</td>\n",
       "      <td>1</td>\n",
       "      <td>T_3</td>\n",
       "      <td>134</td>\n",
       "      <td>31</td>\n",
       "      <td>2</td>\n",
       "      <td>1</td>\n",
       "      <td>4753</td>\n",
       "      <td>1</td>\n",
       "      <td>4</td>\n",
       "      <td>1</td>\n",
       "      <td>31.000000</td>\n",
       "      <td>4</td>\n",
       "      <td>2</td>\n",
       "      <td>2.0</td>\n",
       "      <td>NaN</td>\n",
       "      <td>1</td>\n",
       "      <td>0</td>\n",
       "      <td>0</td>\n",
       "    </tr>\n",
       "    <tr>\n",
       "      <th>1</th>\n",
       "      <td>10816_148</td>\n",
       "      <td>0</td>\n",
       "      <td>Y_2</td>\n",
       "      <td>120</td>\n",
       "      <td>148</td>\n",
       "      <td>2</td>\n",
       "      <td>1</td>\n",
       "      <td>10816</td>\n",
       "      <td>0</td>\n",
       "      <td>2</td>\n",
       "      <td>3</td>\n",
       "      <td>41.307820</td>\n",
       "      <td>2</td>\n",
       "      <td>2</td>\n",
       "      <td>4.0</td>\n",
       "      <td>NaN</td>\n",
       "      <td>0</td>\n",
       "      <td>1</td>\n",
       "      <td>0</td>\n",
       "    </tr>\n",
       "    <tr>\n",
       "      <th>2</th>\n",
       "      <td>7498_114</td>\n",
       "      <td>0</td>\n",
       "      <td>Y_4</td>\n",
       "      <td>121</td>\n",
       "      <td>114</td>\n",
       "      <td>1</td>\n",
       "      <td>2</td>\n",
       "      <td>7498</td>\n",
       "      <td>0</td>\n",
       "      <td>3</td>\n",
       "      <td>1</td>\n",
       "      <td>40.569374</td>\n",
       "      <td>3</td>\n",
       "      <td>2</td>\n",
       "      <td>1.0</td>\n",
       "      <td>NaN</td>\n",
       "      <td>0</td>\n",
       "      <td>1</td>\n",
       "      <td>0</td>\n",
       "    </tr>\n",
       "    <tr>\n",
       "      <th>3</th>\n",
       "      <td>14139_175</td>\n",
       "      <td>2</td>\n",
       "      <td>Z_2</td>\n",
       "      <td>120</td>\n",
       "      <td>175</td>\n",
       "      <td>2</td>\n",
       "      <td>1</td>\n",
       "      <td>14139</td>\n",
       "      <td>1</td>\n",
       "      <td>3</td>\n",
       "      <td>1</td>\n",
       "      <td>44.000000</td>\n",
       "      <td>1</td>\n",
       "      <td>1</td>\n",
       "      <td>1.0</td>\n",
       "      <td>NaN</td>\n",
       "      <td>0</td>\n",
       "      <td>1</td>\n",
       "      <td>0</td>\n",
       "    </tr>\n",
       "    <tr>\n",
       "      <th>4</th>\n",
       "      <td>11305_25</td>\n",
       "      <td>1</td>\n",
       "      <td>T_3</td>\n",
       "      <td>134</td>\n",
       "      <td>25</td>\n",
       "      <td>1</td>\n",
       "      <td>2</td>\n",
       "      <td>11305</td>\n",
       "      <td>0</td>\n",
       "      <td>3</td>\n",
       "      <td>2</td>\n",
       "      <td>49.000000</td>\n",
       "      <td>2</td>\n",
       "      <td>2</td>\n",
       "      <td>2.0</td>\n",
       "      <td>NaN</td>\n",
       "      <td>0</td>\n",
       "      <td>0</td>\n",
       "      <td>1</td>\n",
       "    </tr>\n",
       "    <tr>\n",
       "      <th>...</th>\n",
       "      <td>...</td>\n",
       "      <td>...</td>\n",
       "      <td>...</td>\n",
       "      <td>...</td>\n",
       "      <td>...</td>\n",
       "      <td>...</td>\n",
       "      <td>...</td>\n",
       "      <td>...</td>\n",
       "      <td>...</td>\n",
       "      <td>...</td>\n",
       "      <td>...</td>\n",
       "      <td>...</td>\n",
       "      <td>...</td>\n",
       "      <td>...</td>\n",
       "      <td>...</td>\n",
       "      <td>...</td>\n",
       "      <td>...</td>\n",
       "      <td>...</td>\n",
       "      <td>...</td>\n",
       "    </tr>\n",
       "    <tr>\n",
       "      <th>11460</th>\n",
       "      <td>1612_108</td>\n",
       "      <td>5</td>\n",
       "      <td>X_2</td>\n",
       "      <td>121</td>\n",
       "      <td>108</td>\n",
       "      <td>1</td>\n",
       "      <td>3</td>\n",
       "      <td>1612</td>\n",
       "      <td>0</td>\n",
       "      <td>2</td>\n",
       "      <td>3</td>\n",
       "      <td>42.160932</td>\n",
       "      <td>1</td>\n",
       "      <td>2</td>\n",
       "      <td>2.0</td>\n",
       "      <td>NaN</td>\n",
       "      <td>0</td>\n",
       "      <td>1</td>\n",
       "      <td>0</td>\n",
       "    </tr>\n",
       "    <tr>\n",
       "      <th>11461</th>\n",
       "      <td>17726_44</td>\n",
       "      <td>1</td>\n",
       "      <td>T_1</td>\n",
       "      <td>131</td>\n",
       "      <td>44</td>\n",
       "      <td>1</td>\n",
       "      <td>1</td>\n",
       "      <td>17726</td>\n",
       "      <td>1</td>\n",
       "      <td>3</td>\n",
       "      <td>3</td>\n",
       "      <td>46.000000</td>\n",
       "      <td>4</td>\n",
       "      <td>2</td>\n",
       "      <td>3.0</td>\n",
       "      <td>NaN</td>\n",
       "      <td>0</td>\n",
       "      <td>0</td>\n",
       "      <td>1</td>\n",
       "    </tr>\n",
       "    <tr>\n",
       "      <th>11462</th>\n",
       "      <td>8272_131</td>\n",
       "      <td>0</td>\n",
       "      <td>Y_3</td>\n",
       "      <td>135</td>\n",
       "      <td>131</td>\n",
       "      <td>2</td>\n",
       "      <td>1</td>\n",
       "      <td>8272</td>\n",
       "      <td>0</td>\n",
       "      <td>2</td>\n",
       "      <td>4</td>\n",
       "      <td>25.000000</td>\n",
       "      <td>2</td>\n",
       "      <td>2</td>\n",
       "      <td>4.0</td>\n",
       "      <td>NaN</td>\n",
       "      <td>1</td>\n",
       "      <td>0</td>\n",
       "      <td>0</td>\n",
       "    </tr>\n",
       "    <tr>\n",
       "      <th>11463</th>\n",
       "      <td>10621_166</td>\n",
       "      <td>2</td>\n",
       "      <td>Z_3</td>\n",
       "      <td>130</td>\n",
       "      <td>166</td>\n",
       "      <td>2</td>\n",
       "      <td>1</td>\n",
       "      <td>10621</td>\n",
       "      <td>1</td>\n",
       "      <td>2</td>\n",
       "      <td>4</td>\n",
       "      <td>40.000000</td>\n",
       "      <td>1</td>\n",
       "      <td>2</td>\n",
       "      <td>3.0</td>\n",
       "      <td>NaN</td>\n",
       "      <td>0</td>\n",
       "      <td>1</td>\n",
       "      <td>0</td>\n",
       "    </tr>\n",
       "    <tr>\n",
       "      <th>11464</th>\n",
       "      <td>2465_48</td>\n",
       "      <td>4</td>\n",
       "      <td>U_2</td>\n",
       "      <td>122</td>\n",
       "      <td>48</td>\n",
       "      <td>1</td>\n",
       "      <td>1</td>\n",
       "      <td>2465</td>\n",
       "      <td>0</td>\n",
       "      <td>3</td>\n",
       "      <td>2</td>\n",
       "      <td>42.160932</td>\n",
       "      <td>3</td>\n",
       "      <td>2</td>\n",
       "      <td>2.0</td>\n",
       "      <td>NaN</td>\n",
       "      <td>0</td>\n",
       "      <td>1</td>\n",
       "      <td>0</td>\n",
       "    </tr>\n",
       "  </tbody>\n",
       "</table>\n",
       "<p>11465 rows × 19 columns</p>\n",
       "</div>"
      ],
      "text/plain": [
       "          id_num program_type program_id  program_duration  test_id test_type  \\\n",
       "0        4753_31            1        T_3               134       31         2   \n",
       "1      10816_148            0        Y_2               120      148         2   \n",
       "2       7498_114            0        Y_4               121      114         1   \n",
       "3      14139_175            2        Z_2               120      175         2   \n",
       "4       11305_25            1        T_3               134       25         1   \n",
       "...          ...          ...        ...               ...      ...       ...   \n",
       "11460   1612_108            5        X_2               121      108         1   \n",
       "11461   17726_44            1        T_1               131       44         1   \n",
       "11462   8272_131            0        Y_3               135      131         2   \n",
       "11463  10621_166            2        Z_3               130      166         2   \n",
       "11464    2465_48            4        U_2               122       48         1   \n",
       "\n",
       "      difficulty_level  trainee_id gender education  city_tier        age  \\\n",
       "0                    1        4753      1         4          1  31.000000   \n",
       "1                    1       10816      0         2          3  41.307820   \n",
       "2                    2        7498      0         3          1  40.569374   \n",
       "3                    1       14139      1         3          1  44.000000   \n",
       "4                    2       11305      0         3          2  49.000000   \n",
       "...                ...         ...    ...       ...        ...        ...   \n",
       "11460                3        1612      0         2          3  42.160932   \n",
       "11461                1       17726      1         3          3  46.000000   \n",
       "11462                1        8272      0         2          4  25.000000   \n",
       "11463                1       10621      1         2          4  40.000000   \n",
       "11464                1        2465      0         3          2  42.160932   \n",
       "\n",
       "       total_programs_enrolled is_handicapped  trainee_engagement_rating  \\\n",
       "0                            4              2                        2.0   \n",
       "1                            2              2                        4.0   \n",
       "2                            3              2                        1.0   \n",
       "3                            1              1                        1.0   \n",
       "4                            2              2                        2.0   \n",
       "...                        ...            ...                        ...   \n",
       "11460                        1              2                        2.0   \n",
       "11461                        4              2                        3.0   \n",
       "11462                        2              2                        4.0   \n",
       "11463                        1              2                        3.0   \n",
       "11464                        3              2                        2.0   \n",
       "\n",
       "       is_pass  discreat_age_youth  discreat_age_middle  discreat_age_elder  \n",
       "0          NaN                   1                    0                   0  \n",
       "1          NaN                   0                    1                   0  \n",
       "2          NaN                   0                    1                   0  \n",
       "3          NaN                   0                    1                   0  \n",
       "4          NaN                   0                    0                   1  \n",
       "...        ...                 ...                  ...                 ...  \n",
       "11460      NaN                   0                    1                   0  \n",
       "11461      NaN                   0                    0                   1  \n",
       "11462      NaN                   1                    0                   0  \n",
       "11463      NaN                   0                    1                   0  \n",
       "11464      NaN                   0                    1                   0  \n",
       "\n",
       "[11465 rows x 19 columns]"
      ]
     },
     "execution_count": 42,
     "metadata": {},
     "output_type": "execute_result"
    }
   ],
   "source": [
    "pd.cut(test.age,3)\n",
    "test['discreat_age'] = pd.cut(test.age,3,labels=['youth','middle','elder'])\n",
    "pd.get_dummies(test,columns=['discreat_age'])"
   ]
  },
  {
   "cell_type": "code",
   "execution_count": 41,
   "metadata": {},
   "outputs": [],
   "source": [
    "#线性回归\n",
    "# final_result = alg.predict(test[predictors].values)\n",
    "\n",
    "# final_result[final_result > 0.5] = 1\n",
    "# final_result[final_result <= 0.5] = 0\n",
    "\n",
    "# final_result"
   ]
  },
  {
   "cell_type": "code",
   "execution_count": 28,
   "metadata": {},
   "outputs": [],
   "source": [
    "#逻辑回归\n",
    "# print(test.isnull().any())\n",
    "# scaler_1 = preprocessing.StandardScaler().fit(test[predictors])\n",
    "# test_scaled = scaler.transform(test[predictors])\n",
    "\n",
    "# final_result = log_reg.predict(test_scaled)\n"
   ]
  },
  {
   "cell_type": "code",
   "execution_count": 43,
   "metadata": {},
   "outputs": [],
   "source": [
    "final_result = clf.predict(test[predictors])\n",
    "test['is_pass'] = final_result"
   ]
  },
  {
   "cell_type": "markdown",
   "metadata": {},
   "source": [
    "**大致看看1和0的分布**"
   ]
  },
  {
   "cell_type": "code",
   "execution_count": 44,
   "metadata": {},
   "outputs": [
    {
     "data": {
      "text/plain": [
       "<AxesSubplot:>"
      ]
     },
     "execution_count": 44,
     "metadata": {},
     "output_type": "execute_result"
    },
    {
     "data": {
      "image/png": "[encoded data removed]",
      "text/plain": [
       "<Figure size 432x288 with 1 Axes>"
      ]
     },
     "metadata": {
      "needs_background": "light"
     },
     "output_type": "display_data"
    }
   ],
   "source": [
    "test.is_pass.value_counts().plot(kind='bar')"
   ]
  },
  {
   "cell_type": "markdown",
   "metadata": {},
   "source": [
    "**一顿操作存进submission**"
   ]
  },
  {
   "cell_type": "code",
   "execution_count": 45,
   "metadata": {},
   "outputs": [],
   "source": [
    "output = pd.read_csv(r'C:\\Users\\姮娥\\Desktop\\get prepared\\QG\\中期考核\\data\\test\\test2.csv')\n",
    "output['is_pass'] = final_result\n",
    "output['is_pass'] = pd.DataFrame(test, columns=['is_pass'], dtype = np.int64)"
   ]
  },
  {
   "cell_type": "code",
   "execution_count": 46,
   "metadata": {},
   "outputs": [
    {
     "name": "stdout",
     "output_type": "stream",
     "text": [
      "<class 'pandas.core.frame.DataFrame'>\n",
      "RangeIndex: 11465 entries, 0 to 11464\n",
      "Data columns (total 2 columns):\n",
      " #   Column   Non-Null Count  Dtype \n",
      "---  ------   --------------  ----- \n",
      " 0   id_num   11465 non-null  object\n",
      " 1   is_pass  11465 non-null  int64 \n",
      "dtypes: int64(1), object(1)\n",
      "memory usage: 179.3+ KB\n"
     ]
    }
   ],
   "source": [
    "output = output.drop([\"program_type\",\"program_id\",\"test_id\",\"trainee_id\",\"program_duration\",\n",
    "                     \"test_type\",\"difficulty_level\",\"gender\",\"education\",\"city_tier\",\"age\",\n",
    "                     \"total_programs_enrolled\",\"is_handicapped\",\"trainee_engagement_rating\"],axis=1)\n",
    "output.info()"
   ]
  },
  {
   "cell_type": "code",
   "execution_count": 48,
   "metadata": {},
   "outputs": [],
   "source": [
    "output.to_csv(r'C:\\Users\\姮娥\\Desktop\\get prepared\\submission.csv', index=False)"
   ]
  },
  {
   "cell_type": "code",
   "execution_count": null,
   "metadata": {},
   "outputs": [],
   "source": []
  }
 ],
 "metadata": {
  "kernelspec": {
   "display_name": "Python 3",
   "language": "python",
   "name": "python3"
  },
  "language_info": {
   "codemirror_mode": {
    "name": "ipython",
    "version": 3
   },
   "file_extension": ".py",
   "mimetype": "text/x-python",
   "name": "python",
   "nbconvert_exporter": "python",
   "pygments_lexer": "ipython3",
   "version": "3.8.5"
  }
 },
 "nbformat": 4,
 "nbformat_minor": 4
}
